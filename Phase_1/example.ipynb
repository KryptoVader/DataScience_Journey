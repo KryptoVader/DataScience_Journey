{
 "cells": [
  {
   "cell_type": "code",
   "execution_count": 5,
   "id": "d61e940d",
   "metadata": {},
   "outputs": [],
   "source": [
    "import urllib3\n",
    "import io"
   ]
  },
  {
   "cell_type": "code",
   "execution_count": 6,
   "id": "2771efd2",
   "metadata": {},
   "outputs": [],
   "source": [
    "http = urllib3.PoolManager()"
   ]
  },
  {
   "cell_type": "code",
   "execution_count": 11,
   "id": "faa5d7e3",
   "metadata": {},
   "outputs": [],
   "source": [
    "apple= http.request('GET', 'https://www.apple.com/in/', preload_content = False)\n",
    "apple.auto_close = False\n",
    "\n",
    "with open('apple.html', 'w') as f:\n",
    "    for line in io.TextIOWrapper(apple):\n",
    "        f.write(line)\n",
    "        \n",
    "apple.close()"
   ]
  }
 ],
 "metadata": {
  "kernelspec": {
   "display_name": "DataScience",
   "language": "python",
   "name": "python3"
  },
  "language_info": {
   "codemirror_mode": {
    "name": "ipython",
    "version": 3
   },
   "file_extension": ".py",
   "mimetype": "text/x-python",
   "name": "python",
   "nbconvert_exporter": "python",
   "pygments_lexer": "ipython3",
   "version": "3.12.10"
  }
 },
 "nbformat": 4,
 "nbformat_minor": 5
}
