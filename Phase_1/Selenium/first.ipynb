{
 "cells": [
  {
   "cell_type": "code",
   "execution_count": 35,
   "id": "3160a5ad",
   "metadata": {},
   "outputs": [],
   "source": [
    "from selenium import webdriver\n",
    "from selenium.webdriver.common.by import By\n",
    "from selenium.webdriver.support.ui import WebDriverWait\n",
    "from selenium.webdriver.support import expected_conditions as EC"
   ]
  },
  {
   "cell_type": "code",
   "execution_count": 36,
   "id": "21cb8e54",
   "metadata": {},
   "outputs": [],
   "source": [
    "driver = webdriver.Chrome()"
   ]
  },
  {
   "cell_type": "code",
   "execution_count": 37,
   "id": "1f25201f",
   "metadata": {},
   "outputs": [],
   "source": [
    "driver.get(\"https://jqueryui.com/resources/demos/progressbar/download.html\")\n",
    "driver.implicitly_wait(60)\n",
    "my_btn = driver.find_element(By.ID, \"downloadButton\")\n",
    "my_btn.click()"
   ]
  },
  {
   "cell_type": "code",
   "execution_count": 38,
   "id": "825ce346",
   "metadata": {},
   "outputs": [],
   "source": [
    "if WebDriverWait(driver, 30).until(\n",
    "    EC.text_to_be_present_in_element(\n",
    "        (By.CLASS_NAME, 'progress-label'),\n",
    "        'Complete'\n",
    "    )\n",
    "):\n",
    "    driver.close()"
   ]
  }
 ],
 "metadata": {
  "kernelspec": {
   "display_name": "DataScience",
   "language": "python",
   "name": "python3"
  },
  "language_info": {
   "codemirror_mode": {
    "name": "ipython",
    "version": 3
   },
   "file_extension": ".py",
   "mimetype": "text/x-python",
   "name": "python",
   "nbconvert_exporter": "python",
   "pygments_lexer": "ipython3",
   "version": "3.12.10"
  }
 },
 "nbformat": 4,
 "nbformat_minor": 5
}
