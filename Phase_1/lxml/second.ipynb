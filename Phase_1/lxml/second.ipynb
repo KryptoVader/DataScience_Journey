{
 "cells": [
  {
   "cell_type": "code",
   "execution_count": 2,
   "id": "6b2d6b25",
   "metadata": {},
   "outputs": [],
   "source": [
    "from bs4 import BeautifulSoup\n",
    "import lxml\n",
    "import requests"
   ]
  },
  {
   "cell_type": "code",
   "execution_count": 3,
   "id": "f6dedb38",
   "metadata": {},
   "outputs": [],
   "source": [
    "markup = \"\"\"\n",
    "<html>\n",
    "  <body>\n",
    "    <h1>My Blog</h1>\n",
    "    <div class=\"post\">\n",
    "      <h2 class=\"title\">Post 1</h2>\n",
    "      <p class=\"content\">This is the first post.</p>\n",
    "    </div>\n",
    "    <div class=\"post\">\n",
    "      <h2 class=\"title\">Post 2</h2>\n",
    "      <p class=\"content\">This is the second post.</p>\n",
    "    </div>\n",
    "  </body>\n",
    "</html>\n",
    "\"\"\""
   ]
  },
  {
   "cell_type": "code",
   "execution_count": 5,
   "id": "866b0e2f",
   "metadata": {},
   "outputs": [],
   "source": [
    "soup = BeautifulSoup(markup, 'lxml')"
   ]
  },
  {
   "cell_type": "code",
   "execution_count": 7,
   "id": "2cbe780f",
   "metadata": {},
   "outputs": [
    {
     "name": "stdout",
     "output_type": "stream",
     "text": [
      "<html>\n",
      " <body>\n",
      "  <h1>\n",
      "   My Blog\n",
      "  </h1>\n",
      "  <div class=\"post\">\n",
      "   <h2 class=\"title\">\n",
      "    Post 1\n",
      "   </h2>\n",
      "   <p class=\"content\">\n",
      "    This is the first post.\n",
      "   </p>\n",
      "  </div>\n",
      "  <div class=\"post\">\n",
      "   <h2 class=\"title\">\n",
      "    Post 2\n",
      "   </h2>\n",
      "   <p class=\"content\">\n",
      "    This is the second post.\n",
      "   </p>\n",
      "  </div>\n",
      " </body>\n",
      "</html>\n",
      "\n"
     ]
    }
   ],
   "source": [
    "print(soup.prettify())"
   ]
  },
  {
   "cell_type": "code",
   "execution_count": 11,
   "id": "88d25954",
   "metadata": {},
   "outputs": [
    {
     "data": {
      "text/plain": [
       "[<h2 class=\"title\">Post 1</h2>, <h2 class=\"title\">Post 2</h2>]"
      ]
     },
     "execution_count": 11,
     "metadata": {},
     "output_type": "execute_result"
    }
   ],
   "source": [
    "soup.find_all(class_ = 'title')"
   ]
  },
  {
   "cell_type": "code",
   "execution_count": 12,
   "id": "6cbaf9e7",
   "metadata": {},
   "outputs": [
    {
     "data": {
      "text/plain": [
       "[<p class=\"content\">This is the first post.</p>,\n",
       " <p class=\"content\">This is the second post.</p>]"
      ]
     },
     "execution_count": 12,
     "metadata": {},
     "output_type": "execute_result"
    }
   ],
   "source": [
    "soup.find_all(class_='content')"
   ]
  },
  {
   "cell_type": "code",
   "execution_count": 13,
   "id": "d2ce801a",
   "metadata": {},
   "outputs": [
    {
     "name": "stdout",
     "output_type": "stream",
     "text": [
      "{'Post 1': 'This is the first post.', 'Post 2': 'This is the second post.'}\n"
     ]
    }
   ],
   "source": [
    "ques = dict()\n",
    "i = 1\n",
    "for tag in soup.find_all(class_ = 'content'):\n",
    "    ques[f'Post {i}'] = tag.text\n",
    "    i += 1 \n",
    "\n",
    "print(ques)"
   ]
  },
  {
   "cell_type": "code",
   "execution_count": 17,
   "id": "d7c95648",
   "metadata": {},
   "outputs": [
    {
     "data": {
      "text/plain": [
       "bs4.element.Tag"
      ]
     },
     "execution_count": 17,
     "metadata": {},
     "output_type": "execute_result"
    }
   ],
   "source": [
    "div = soup.find_all(class_ = 'post')\n",
    "type(div[1])"
   ]
  },
  {
   "cell_type": "code",
   "execution_count": 19,
   "id": "892ab021",
   "metadata": {},
   "outputs": [
    {
     "data": {
      "text/plain": [
       "<div class=\"post\">\n",
       "<h2 class=\"title\">Post 2</h2>\n",
       "<p class=\"content\">This is the second post.</p>\n",
       "</div>"
      ]
     },
     "execution_count": 19,
     "metadata": {},
     "output_type": "execute_result"
    }
   ],
   "source": [
    "tag = div[1]\n",
    "tag"
   ]
  },
  {
   "cell_type": "code",
   "execution_count": 20,
   "id": "40dda239",
   "metadata": {},
   "outputs": [],
   "source": [
    "tag.decompose()"
   ]
  },
  {
   "cell_type": "code",
   "execution_count": 22,
   "id": "084449e0",
   "metadata": {},
   "outputs": [
    {
     "name": "stdout",
     "output_type": "stream",
     "text": [
      "<html>\n",
      " <body>\n",
      "  <h1>\n",
      "   My Blog\n",
      "  </h1>\n",
      "  <div class=\"post\">\n",
      "   <h2 class=\"title\">\n",
      "    Post 1\n",
      "   </h2>\n",
      "   <p class=\"content\">\n",
      "    This is the first post.\n",
      "   </p>\n",
      "  </div>\n",
      " </body>\n",
      "</html>\n",
      "\n"
     ]
    }
   ],
   "source": [
    "print(soup.prettify())"
   ]
  }
 ],
 "metadata": {
  "kernelspec": {
   "display_name": "DataScience",
   "language": "python",
   "name": "python3"
  },
  "language_info": {
   "codemirror_mode": {
    "name": "ipython",
    "version": 3
   },
   "file_extension": ".py",
   "mimetype": "text/x-python",
   "name": "python",
   "nbconvert_exporter": "python",
   "pygments_lexer": "ipython3",
   "version": "3.12.10"
  }
 },
 "nbformat": 4,
 "nbformat_minor": 5
}
