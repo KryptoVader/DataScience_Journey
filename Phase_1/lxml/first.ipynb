{
 "cells": [
  {
   "cell_type": "code",
   "execution_count": 4,
   "id": "f1305a14",
   "metadata": {},
   "outputs": [],
   "source": [
    "from lxml import etree"
   ]
  },
  {
   "cell_type": "code",
   "execution_count": 3,
   "id": "9aa0aa41",
   "metadata": {},
   "outputs": [],
   "source": [
    "markup = \"\"\"\n",
    "<html>\n",
    "  <ul id=\"menu\">\n",
    "    <li class=\"food\">Pizza</li>\n",
    "    <li class=\"food\">Burger</li>\n",
    "    <li class=\"drink\">Cola</li>\n",
    "  </ul>\n",
    "</html>\n",
    "\"\"\""
   ]
  },
  {
   "cell_type": "code",
   "execution_count": 5,
   "id": "9a83d8fc",
   "metadata": {},
   "outputs": [
    {
     "data": {
      "text/plain": [
       "<Element html at 0x1f5bff52c00>"
      ]
     },
     "execution_count": 5,
     "metadata": {},
     "output_type": "execute_result"
    }
   ],
   "source": [
    "html = etree.HTML(markup)\n",
    "html"
   ]
  },
  {
   "cell_type": "code",
   "execution_count": 7,
   "id": "eb2eae7a",
   "metadata": {},
   "outputs": [
    {
     "name": "stdout",
     "output_type": "stream",
     "text": [
      "[<Element li at 0x1f5bff456c0>, <Element li at 0x1f5bff9a940>, <Element li at 0x1f5bffaa740>]\n"
     ]
    },
    {
     "data": {
      "text/plain": [
       "'Pizza'"
      ]
     },
     "execution_count": 7,
     "metadata": {},
     "output_type": "execute_result"
    }
   ],
   "source": [
    "print(html.xpath('//li'))\n",
    "html.xpath('//li')[0].text"
   ]
  },
  {
   "cell_type": "code",
   "execution_count": 8,
   "id": "77bc502c",
   "metadata": {},
   "outputs": [
    {
     "data": {
      "text/plain": [
       "[<Element li at 0x1f5bff456c0>, <Element li at 0x1f5bff9a940>]"
      ]
     },
     "execution_count": 8,
     "metadata": {},
     "output_type": "execute_result"
    }
   ],
   "source": [
    "html.xpath('//li[@class=\"food\"]')"
   ]
  },
  {
   "cell_type": "code",
   "execution_count": 9,
   "id": "ad448daf",
   "metadata": {},
   "outputs": [
    {
     "name": "stdout",
     "output_type": "stream",
     "text": [
      "Pizza\n",
      "Burger\n"
     ]
    }
   ],
   "source": [
    "for tag in html.xpath('//li[@class=\"food\"]'):\n",
    "    print(tag.text)"
   ]
  },
  {
   "cell_type": "code",
   "execution_count": 12,
   "id": "d028b023",
   "metadata": {},
   "outputs": [
    {
     "name": "stdout",
     "output_type": "stream",
     "text": [
      "<html>\n",
      "  <body><ul id=\"menu\">\n",
      "    <li class=\"food\">Pizza</li>\n",
      "    <li class=\"food\">Burger</li>\n",
      "    <li class=\"drink\">Cola</li>\n",
      "  <li class=\"food\">Fries</li></ul>\n",
      "</body></html>\n",
      "\n"
     ]
    }
   ],
   "source": [
    "ul_ele = html.xpath('//ul[@id=\"menu\"]')[0]\n",
    "new_li = etree.Element('li', attrib={\"class\":\"food\"})\n",
    "new_li.text = \"Fries\"\n",
    "\n",
    "\n",
    "ul_ele.append(new_li)\n",
    "\n",
    "print(etree.tostring(html, pretty_print=True).decode())"
   ]
  }
 ],
 "metadata": {
  "kernelspec": {
   "display_name": "DataScience",
   "language": "python",
   "name": "python3"
  },
  "language_info": {
   "codemirror_mode": {
    "name": "ipython",
    "version": 3
   },
   "file_extension": ".py",
   "mimetype": "text/x-python",
   "name": "python",
   "nbconvert_exporter": "python",
   "pygments_lexer": "ipython3",
   "version": "3.12.10"
  }
 },
 "nbformat": 4,
 "nbformat_minor": 5
}
