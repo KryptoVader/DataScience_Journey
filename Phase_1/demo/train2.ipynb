{
 "cells": [
  {
   "cell_type": "code",
   "execution_count": 1,
   "id": "acbd9d98",
   "metadata": {},
   "outputs": [],
   "source": [
    "import pandas as pd\n",
    "import numpy as np\n",
    "import matplotlib.pyplot as plt\n",
    "import seaborn as sns"
   ]
  },
  {
   "cell_type": "code",
   "execution_count": 2,
   "id": "e2b4e4f8",
   "metadata": {},
   "outputs": [],
   "source": [
    "import pyarrow.parquet as pq\n",
    "\n",
    "# Open Parquet file\n",
    "parquet_file = pq.ParquetFile(\"C:/Datasets/Parquets/ecom.parquet\")\n",
    "\n",
    "dfs = []\n",
    "\n",
    "# Read in row batches\n",
    "for batch in parquet_file.iter_batches(batch_size=1_000_000):\n",
    "    dfs.append(batch.to_pandas())\n",
    "    # process each batch separately\n",
    "\n",
    "ecommerce = pd.concat(dfs, ignore_index=True)"
   ]
  },
  {
   "cell_type": "code",
   "execution_count": 3,
   "id": "fe84a718",
   "metadata": {},
   "outputs": [
    {
     "data": {
      "application/vnd.microsoft.datawrangler.viewer.v0+json": {
       "columns": [
        {
         "name": "index",
         "rawType": "int64",
         "type": "integer"
        },
        {
         "name": "event_time",
         "rawType": "object",
         "type": "string"
        },
        {
         "name": "event_type",
         "rawType": "object",
         "type": "string"
        },
        {
         "name": "product_id",
         "rawType": "int64",
         "type": "integer"
        },
        {
         "name": "category_id",
         "rawType": "int64",
         "type": "integer"
        },
        {
         "name": "brand",
         "rawType": "object",
         "type": "string"
        },
        {
         "name": "price",
         "rawType": "float64",
         "type": "float"
        },
        {
         "name": "user_id",
         "rawType": "int64",
         "type": "integer"
        },
        {
         "name": "user_session",
         "rawType": "object",
         "type": "string"
        },
        {
         "name": "category",
         "rawType": "object",
         "type": "string"
        },
        {
         "name": "type",
         "rawType": "object",
         "type": "string"
        }
       ],
       "ref": "947fa436-1782-4d3a-a212-e28c88bcd0a1",
       "rows": [
        [
         "0",
         "2019-11-01 00:00:00 UTC",
         "view",
         "1003461",
         "2053013555631882655",
         "xiaomi",
         "489.07",
         "520088904",
         "4d3b30da-a5e4-49df-b1a8-ba5943f1dd33",
         "electronics",
         "smartphone"
        ],
        [
         "1",
         "2019-11-01 00:00:00 UTC",
         "view",
         "5000088",
         "2053013566100866035",
         "janome",
         "293.65",
         "530496790",
         "8e5f4f83-366c-4f70-860e-ca7417414283",
         "appliances",
         "sewing_machine"
        ],
        [
         "2",
         "2019-11-01 00:00:01 UTC",
         "view",
         "17302664",
         "2053013553853497655",
         "creed",
         "28.31",
         "561587266",
         "755422e7-9040-477b-9bd2-6a6e8fd97387",
         "unknown",
         "unknown"
        ],
        [
         "3",
         "2019-11-01 00:00:01 UTC",
         "view",
         "3601530",
         "2053013563810775923",
         "lg",
         "712.87",
         "518085591",
         "3bfb58cd-7892-48cc-8020-2f17e6de6e7f",
         "appliances",
         "kitchen.washer"
        ],
        [
         "4",
         "2019-11-01 00:00:01 UTC",
         "view",
         "1004775",
         "2053013555631882655",
         "xiaomi",
         "183.27",
         "558856683",
         "313628f1-68b8-460d-84f6-cec7a8796ef2",
         "electronics",
         "smartphone"
        ]
       ],
       "shape": {
        "columns": 10,
        "rows": 5
       }
      },
      "text/html": [
       "<div>\n",
       "<style scoped>\n",
       "    .dataframe tbody tr th:only-of-type {\n",
       "        vertical-align: middle;\n",
       "    }\n",
       "\n",
       "    .dataframe tbody tr th {\n",
       "        vertical-align: top;\n",
       "    }\n",
       "\n",
       "    .dataframe thead th {\n",
       "        text-align: right;\n",
       "    }\n",
       "</style>\n",
       "<table border=\"1\" class=\"dataframe\">\n",
       "  <thead>\n",
       "    <tr style=\"text-align: right;\">\n",
       "      <th></th>\n",
       "      <th>event_time</th>\n",
       "      <th>event_type</th>\n",
       "      <th>product_id</th>\n",
       "      <th>category_id</th>\n",
       "      <th>brand</th>\n",
       "      <th>price</th>\n",
       "      <th>user_id</th>\n",
       "      <th>user_session</th>\n",
       "      <th>category</th>\n",
       "      <th>type</th>\n",
       "    </tr>\n",
       "  </thead>\n",
       "  <tbody>\n",
       "    <tr>\n",
       "      <th>0</th>\n",
       "      <td>2019-11-01 00:00:00 UTC</td>\n",
       "      <td>view</td>\n",
       "      <td>1003461</td>\n",
       "      <td>2053013555631882655</td>\n",
       "      <td>xiaomi</td>\n",
       "      <td>489.07</td>\n",
       "      <td>520088904</td>\n",
       "      <td>4d3b30da-a5e4-49df-b1a8-ba5943f1dd33</td>\n",
       "      <td>electronics</td>\n",
       "      <td>smartphone</td>\n",
       "    </tr>\n",
       "    <tr>\n",
       "      <th>1</th>\n",
       "      <td>2019-11-01 00:00:00 UTC</td>\n",
       "      <td>view</td>\n",
       "      <td>5000088</td>\n",
       "      <td>2053013566100866035</td>\n",
       "      <td>janome</td>\n",
       "      <td>293.65</td>\n",
       "      <td>530496790</td>\n",
       "      <td>8e5f4f83-366c-4f70-860e-ca7417414283</td>\n",
       "      <td>appliances</td>\n",
       "      <td>sewing_machine</td>\n",
       "    </tr>\n",
       "    <tr>\n",
       "      <th>2</th>\n",
       "      <td>2019-11-01 00:00:01 UTC</td>\n",
       "      <td>view</td>\n",
       "      <td>17302664</td>\n",
       "      <td>2053013553853497655</td>\n",
       "      <td>creed</td>\n",
       "      <td>28.31</td>\n",
       "      <td>561587266</td>\n",
       "      <td>755422e7-9040-477b-9bd2-6a6e8fd97387</td>\n",
       "      <td>unknown</td>\n",
       "      <td>unknown</td>\n",
       "    </tr>\n",
       "    <tr>\n",
       "      <th>3</th>\n",
       "      <td>2019-11-01 00:00:01 UTC</td>\n",
       "      <td>view</td>\n",
       "      <td>3601530</td>\n",
       "      <td>2053013563810775923</td>\n",
       "      <td>lg</td>\n",
       "      <td>712.87</td>\n",
       "      <td>518085591</td>\n",
       "      <td>3bfb58cd-7892-48cc-8020-2f17e6de6e7f</td>\n",
       "      <td>appliances</td>\n",
       "      <td>kitchen.washer</td>\n",
       "    </tr>\n",
       "    <tr>\n",
       "      <th>4</th>\n",
       "      <td>2019-11-01 00:00:01 UTC</td>\n",
       "      <td>view</td>\n",
       "      <td>1004775</td>\n",
       "      <td>2053013555631882655</td>\n",
       "      <td>xiaomi</td>\n",
       "      <td>183.27</td>\n",
       "      <td>558856683</td>\n",
       "      <td>313628f1-68b8-460d-84f6-cec7a8796ef2</td>\n",
       "      <td>electronics</td>\n",
       "      <td>smartphone</td>\n",
       "    </tr>\n",
       "  </tbody>\n",
       "</table>\n",
       "</div>"
      ],
      "text/plain": [
       "                event_time event_type  product_id          category_id  \\\n",
       "0  2019-11-01 00:00:00 UTC       view     1003461  2053013555631882655   \n",
       "1  2019-11-01 00:00:00 UTC       view     5000088  2053013566100866035   \n",
       "2  2019-11-01 00:00:01 UTC       view    17302664  2053013553853497655   \n",
       "3  2019-11-01 00:00:01 UTC       view     3601530  2053013563810775923   \n",
       "4  2019-11-01 00:00:01 UTC       view     1004775  2053013555631882655   \n",
       "\n",
       "    brand   price    user_id                          user_session  \\\n",
       "0  xiaomi  489.07  520088904  4d3b30da-a5e4-49df-b1a8-ba5943f1dd33   \n",
       "1  janome  293.65  530496790  8e5f4f83-366c-4f70-860e-ca7417414283   \n",
       "2   creed   28.31  561587266  755422e7-9040-477b-9bd2-6a6e8fd97387   \n",
       "3      lg  712.87  518085591  3bfb58cd-7892-48cc-8020-2f17e6de6e7f   \n",
       "4  xiaomi  183.27  558856683  313628f1-68b8-460d-84f6-cec7a8796ef2   \n",
       "\n",
       "      category            type  \n",
       "0  electronics      smartphone  \n",
       "1   appliances  sewing_machine  \n",
       "2      unknown         unknown  \n",
       "3   appliances  kitchen.washer  \n",
       "4  electronics      smartphone  "
      ]
     },
     "execution_count": 3,
     "metadata": {},
     "output_type": "execute_result"
    }
   ],
   "source": [
    "ecommerce.head()"
   ]
  },
  {
   "cell_type": "code",
   "execution_count": 4,
   "id": "9276e983",
   "metadata": {},
   "outputs": [
    {
     "data": {
      "text/plain": [
       "(67501969, 10)"
      ]
     },
     "execution_count": 4,
     "metadata": {},
     "output_type": "execute_result"
    }
   ],
   "source": [
    "ecommerce.shape"
   ]
  },
  {
   "cell_type": "code",
   "execution_count": 5,
   "id": "1d862539",
   "metadata": {},
   "outputs": [
    {
     "data": {
      "application/vnd.microsoft.datawrangler.viewer.v0+json": {
       "columns": [
        {
         "name": "index",
         "rawType": "object",
         "type": "string"
        },
        {
         "name": "0",
         "rawType": "int64",
         "type": "integer"
        }
       ],
       "ref": "1c90c2a6-86eb-408a-bee6-a3e183239a43",
       "rows": [
        [
         "event_time",
         "0"
        ],
        [
         "event_type",
         "0"
        ],
        [
         "product_id",
         "0"
        ],
        [
         "category_id",
         "0"
        ],
        [
         "brand",
         "0"
        ],
        [
         "price",
         "0"
        ],
        [
         "user_id",
         "0"
        ],
        [
         "user_session",
         "0"
        ],
        [
         "category",
         "0"
        ],
        [
         "type",
         "0"
        ]
       ],
       "shape": {
        "columns": 1,
        "rows": 10
       }
      },
      "text/plain": [
       "event_time      0\n",
       "event_type      0\n",
       "product_id      0\n",
       "category_id     0\n",
       "brand           0\n",
       "price           0\n",
       "user_id         0\n",
       "user_session    0\n",
       "category        0\n",
       "type            0\n",
       "dtype: int64"
      ]
     },
     "execution_count": 5,
     "metadata": {},
     "output_type": "execute_result"
    }
   ],
   "source": [
    "ecommerce.isna().sum()"
   ]
  },
  {
   "cell_type": "code",
   "execution_count": 6,
   "id": "7cbf08d8",
   "metadata": {},
   "outputs": [
    {
     "name": "stdout",
     "output_type": "stream",
     "text": [
      "<class 'pandas.core.frame.DataFrame'>\n",
      "RangeIndex: 67501969 entries, 0 to 67501968\n",
      "Data columns (total 10 columns):\n",
      " #   Column        Dtype  \n",
      "---  ------        -----  \n",
      " 0   event_time    object \n",
      " 1   event_type    object \n",
      " 2   product_id    int64  \n",
      " 3   category_id   int64  \n",
      " 4   brand         object \n",
      " 5   price         float64\n",
      " 6   user_id       int64  \n",
      " 7   user_session  object \n",
      " 8   category      object \n",
      " 9   type          object \n",
      "dtypes: float64(1), int64(3), object(6)\n",
      "memory usage: 5.0+ GB\n"
     ]
    }
   ],
   "source": [
    "ecommerce.info()"
   ]
  },
  {
   "cell_type": "code",
   "execution_count": 7,
   "id": "c57a55aa",
   "metadata": {},
   "outputs": [
    {
     "data": {
      "application/vnd.microsoft.datawrangler.viewer.v0+json": {
       "columns": [
        {
         "name": "index",
         "rawType": "object",
         "type": "string"
        },
        {
         "name": "product_id",
         "rawType": "float64",
         "type": "float"
        },
        {
         "name": "category_id",
         "rawType": "float64",
         "type": "float"
        },
        {
         "name": "price",
         "rawType": "float64",
         "type": "float"
        },
        {
         "name": "user_id",
         "rawType": "float64",
         "type": "float"
        }
       ],
       "ref": "a8c4bab7-4c0a-431a-b0dc-59b8306ef07c",
       "rows": [
        [
         "count",
         "67501969.0",
         "67501969.0",
         "67501969.0",
         "67501969.0"
        ],
        [
         "mean",
         "12514065.620098252",
         "2.0578976450456077e+18",
         "292.4593169993311",
         "538639740.8587301"
        ],
        [
         "std",
         "17257414.570834447",
         "2.0125491731780376e+16",
         "355.6745085723653",
         "22885159.008486237"
        ],
        [
         "min",
         "1000365.0",
         "2.0530135522261076e+18",
         "0.0",
         "10300217.0"
        ],
        [
         "25%",
         "1305977.0",
         "2.0530135553215043e+18",
         "69.24",
         "516476241.0"
        ],
        [
         "50%",
         "5100568.0",
         "2.0530135556318828e+18",
         "165.77",
         "535057264.0"
        ],
        [
         "75%",
         "17300752.0",
         "2.0530135636513923e+18",
         "360.34",
         "561079379.0"
        ],
        [
         "max",
         "100028554.0",
         "2.187707861038007e+18",
         "2574.07",
         "579969851.0"
        ]
       ],
       "shape": {
        "columns": 4,
        "rows": 8
       }
      },
      "text/html": [
       "<div>\n",
       "<style scoped>\n",
       "    .dataframe tbody tr th:only-of-type {\n",
       "        vertical-align: middle;\n",
       "    }\n",
       "\n",
       "    .dataframe tbody tr th {\n",
       "        vertical-align: top;\n",
       "    }\n",
       "\n",
       "    .dataframe thead th {\n",
       "        text-align: right;\n",
       "    }\n",
       "</style>\n",
       "<table border=\"1\" class=\"dataframe\">\n",
       "  <thead>\n",
       "    <tr style=\"text-align: right;\">\n",
       "      <th></th>\n",
       "      <th>product_id</th>\n",
       "      <th>category_id</th>\n",
       "      <th>price</th>\n",
       "      <th>user_id</th>\n",
       "    </tr>\n",
       "  </thead>\n",
       "  <tbody>\n",
       "    <tr>\n",
       "      <th>count</th>\n",
       "      <td>6.750197e+07</td>\n",
       "      <td>6.750197e+07</td>\n",
       "      <td>6.750197e+07</td>\n",
       "      <td>6.750197e+07</td>\n",
       "    </tr>\n",
       "    <tr>\n",
       "      <th>mean</th>\n",
       "      <td>1.251407e+07</td>\n",
       "      <td>2.057898e+18</td>\n",
       "      <td>2.924593e+02</td>\n",
       "      <td>5.386397e+08</td>\n",
       "    </tr>\n",
       "    <tr>\n",
       "      <th>std</th>\n",
       "      <td>1.725741e+07</td>\n",
       "      <td>2.012549e+16</td>\n",
       "      <td>3.556745e+02</td>\n",
       "      <td>2.288516e+07</td>\n",
       "    </tr>\n",
       "    <tr>\n",
       "      <th>min</th>\n",
       "      <td>1.000365e+06</td>\n",
       "      <td>2.053014e+18</td>\n",
       "      <td>0.000000e+00</td>\n",
       "      <td>1.030022e+07</td>\n",
       "    </tr>\n",
       "    <tr>\n",
       "      <th>25%</th>\n",
       "      <td>1.305977e+06</td>\n",
       "      <td>2.053014e+18</td>\n",
       "      <td>6.924000e+01</td>\n",
       "      <td>5.164762e+08</td>\n",
       "    </tr>\n",
       "    <tr>\n",
       "      <th>50%</th>\n",
       "      <td>5.100568e+06</td>\n",
       "      <td>2.053014e+18</td>\n",
       "      <td>1.657700e+02</td>\n",
       "      <td>5.350573e+08</td>\n",
       "    </tr>\n",
       "    <tr>\n",
       "      <th>75%</th>\n",
       "      <td>1.730075e+07</td>\n",
       "      <td>2.053014e+18</td>\n",
       "      <td>3.603400e+02</td>\n",
       "      <td>5.610794e+08</td>\n",
       "    </tr>\n",
       "    <tr>\n",
       "      <th>max</th>\n",
       "      <td>1.000286e+08</td>\n",
       "      <td>2.187708e+18</td>\n",
       "      <td>2.574070e+03</td>\n",
       "      <td>5.799699e+08</td>\n",
       "    </tr>\n",
       "  </tbody>\n",
       "</table>\n",
       "</div>"
      ],
      "text/plain": [
       "         product_id   category_id         price       user_id\n",
       "count  6.750197e+07  6.750197e+07  6.750197e+07  6.750197e+07\n",
       "mean   1.251407e+07  2.057898e+18  2.924593e+02  5.386397e+08\n",
       "std    1.725741e+07  2.012549e+16  3.556745e+02  2.288516e+07\n",
       "min    1.000365e+06  2.053014e+18  0.000000e+00  1.030022e+07\n",
       "25%    1.305977e+06  2.053014e+18  6.924000e+01  5.164762e+08\n",
       "50%    5.100568e+06  2.053014e+18  1.657700e+02  5.350573e+08\n",
       "75%    1.730075e+07  2.053014e+18  3.603400e+02  5.610794e+08\n",
       "max    1.000286e+08  2.187708e+18  2.574070e+03  5.799699e+08"
      ]
     },
     "execution_count": 7,
     "metadata": {},
     "output_type": "execute_result"
    }
   ],
   "source": [
    "ecommerce.describe()"
   ]
  },
  {
   "cell_type": "markdown",
   "id": "d6cbdf97",
   "metadata": {},
   "source": [
    "# EDA + Feature Engineering"
   ]
  },
  {
   "cell_type": "code",
   "execution_count": 8,
   "id": "a3b40a7e",
   "metadata": {},
   "outputs": [],
   "source": [
    "price_bin = [0,500,1500,float('inf')]\n",
    "price_labels = ['budget','medium','premium']\n",
    "\n",
    "ecommerce['price_range'] = pd.cut(ecommerce['price'], bins=price_bin, labels=price_labels)"
   ]
  },
  {
   "cell_type": "code",
   "execution_count": 9,
   "id": "63821991",
   "metadata": {},
   "outputs": [
    {
     "data": {
      "application/vnd.microsoft.datawrangler.viewer.v0+json": {
       "columns": [
        {
         "name": "index",
         "rawType": "int64",
         "type": "integer"
        },
        {
         "name": "event_time",
         "rawType": "object",
         "type": "string"
        },
        {
         "name": "event_type",
         "rawType": "object",
         "type": "string"
        },
        {
         "name": "product_id",
         "rawType": "int64",
         "type": "integer"
        },
        {
         "name": "category_id",
         "rawType": "int64",
         "type": "integer"
        },
        {
         "name": "brand",
         "rawType": "object",
         "type": "string"
        },
        {
         "name": "price",
         "rawType": "float64",
         "type": "float"
        },
        {
         "name": "user_id",
         "rawType": "int64",
         "type": "integer"
        },
        {
         "name": "user_session",
         "rawType": "object",
         "type": "string"
        },
        {
         "name": "category",
         "rawType": "object",
         "type": "string"
        },
        {
         "name": "type",
         "rawType": "object",
         "type": "string"
        },
        {
         "name": "price_range",
         "rawType": "category",
         "type": "unknown"
        }
       ],
       "ref": "7a66fa6f-061f-48c4-877a-e48eefc010db",
       "rows": [
        [
         "0",
         "2019-11-01 00:00:00 UTC",
         "view",
         "1003461",
         "2053013555631882655",
         "xiaomi",
         "489.07",
         "520088904",
         "4d3b30da-a5e4-49df-b1a8-ba5943f1dd33",
         "electronics",
         "smartphone",
         "budget"
        ],
        [
         "1",
         "2019-11-01 00:00:00 UTC",
         "view",
         "5000088",
         "2053013566100866035",
         "janome",
         "293.65",
         "530496790",
         "8e5f4f83-366c-4f70-860e-ca7417414283",
         "appliances",
         "sewing_machine",
         "budget"
        ],
        [
         "2",
         "2019-11-01 00:00:01 UTC",
         "view",
         "17302664",
         "2053013553853497655",
         "creed",
         "28.31",
         "561587266",
         "755422e7-9040-477b-9bd2-6a6e8fd97387",
         "unknown",
         "unknown",
         "budget"
        ],
        [
         "3",
         "2019-11-01 00:00:01 UTC",
         "view",
         "3601530",
         "2053013563810775923",
         "lg",
         "712.87",
         "518085591",
         "3bfb58cd-7892-48cc-8020-2f17e6de6e7f",
         "appliances",
         "kitchen.washer",
         "medium"
        ],
        [
         "4",
         "2019-11-01 00:00:01 UTC",
         "view",
         "1004775",
         "2053013555631882655",
         "xiaomi",
         "183.27",
         "558856683",
         "313628f1-68b8-460d-84f6-cec7a8796ef2",
         "electronics",
         "smartphone",
         "budget"
        ]
       ],
       "shape": {
        "columns": 11,
        "rows": 5
       }
      },
      "text/html": [
       "<div>\n",
       "<style scoped>\n",
       "    .dataframe tbody tr th:only-of-type {\n",
       "        vertical-align: middle;\n",
       "    }\n",
       "\n",
       "    .dataframe tbody tr th {\n",
       "        vertical-align: top;\n",
       "    }\n",
       "\n",
       "    .dataframe thead th {\n",
       "        text-align: right;\n",
       "    }\n",
       "</style>\n",
       "<table border=\"1\" class=\"dataframe\">\n",
       "  <thead>\n",
       "    <tr style=\"text-align: right;\">\n",
       "      <th></th>\n",
       "      <th>event_time</th>\n",
       "      <th>event_type</th>\n",
       "      <th>product_id</th>\n",
       "      <th>category_id</th>\n",
       "      <th>brand</th>\n",
       "      <th>price</th>\n",
       "      <th>user_id</th>\n",
       "      <th>user_session</th>\n",
       "      <th>category</th>\n",
       "      <th>type</th>\n",
       "      <th>price_range</th>\n",
       "    </tr>\n",
       "  </thead>\n",
       "  <tbody>\n",
       "    <tr>\n",
       "      <th>0</th>\n",
       "      <td>2019-11-01 00:00:00 UTC</td>\n",
       "      <td>view</td>\n",
       "      <td>1003461</td>\n",
       "      <td>2053013555631882655</td>\n",
       "      <td>xiaomi</td>\n",
       "      <td>489.07</td>\n",
       "      <td>520088904</td>\n",
       "      <td>4d3b30da-a5e4-49df-b1a8-ba5943f1dd33</td>\n",
       "      <td>electronics</td>\n",
       "      <td>smartphone</td>\n",
       "      <td>budget</td>\n",
       "    </tr>\n",
       "    <tr>\n",
       "      <th>1</th>\n",
       "      <td>2019-11-01 00:00:00 UTC</td>\n",
       "      <td>view</td>\n",
       "      <td>5000088</td>\n",
       "      <td>2053013566100866035</td>\n",
       "      <td>janome</td>\n",
       "      <td>293.65</td>\n",
       "      <td>530496790</td>\n",
       "      <td>8e5f4f83-366c-4f70-860e-ca7417414283</td>\n",
       "      <td>appliances</td>\n",
       "      <td>sewing_machine</td>\n",
       "      <td>budget</td>\n",
       "    </tr>\n",
       "    <tr>\n",
       "      <th>2</th>\n",
       "      <td>2019-11-01 00:00:01 UTC</td>\n",
       "      <td>view</td>\n",
       "      <td>17302664</td>\n",
       "      <td>2053013553853497655</td>\n",
       "      <td>creed</td>\n",
       "      <td>28.31</td>\n",
       "      <td>561587266</td>\n",
       "      <td>755422e7-9040-477b-9bd2-6a6e8fd97387</td>\n",
       "      <td>unknown</td>\n",
       "      <td>unknown</td>\n",
       "      <td>budget</td>\n",
       "    </tr>\n",
       "    <tr>\n",
       "      <th>3</th>\n",
       "      <td>2019-11-01 00:00:01 UTC</td>\n",
       "      <td>view</td>\n",
       "      <td>3601530</td>\n",
       "      <td>2053013563810775923</td>\n",
       "      <td>lg</td>\n",
       "      <td>712.87</td>\n",
       "      <td>518085591</td>\n",
       "      <td>3bfb58cd-7892-48cc-8020-2f17e6de6e7f</td>\n",
       "      <td>appliances</td>\n",
       "      <td>kitchen.washer</td>\n",
       "      <td>medium</td>\n",
       "    </tr>\n",
       "    <tr>\n",
       "      <th>4</th>\n",
       "      <td>2019-11-01 00:00:01 UTC</td>\n",
       "      <td>view</td>\n",
       "      <td>1004775</td>\n",
       "      <td>2053013555631882655</td>\n",
       "      <td>xiaomi</td>\n",
       "      <td>183.27</td>\n",
       "      <td>558856683</td>\n",
       "      <td>313628f1-68b8-460d-84f6-cec7a8796ef2</td>\n",
       "      <td>electronics</td>\n",
       "      <td>smartphone</td>\n",
       "      <td>budget</td>\n",
       "    </tr>\n",
       "  </tbody>\n",
       "</table>\n",
       "</div>"
      ],
      "text/plain": [
       "                event_time event_type  product_id          category_id  \\\n",
       "0  2019-11-01 00:00:00 UTC       view     1003461  2053013555631882655   \n",
       "1  2019-11-01 00:00:00 UTC       view     5000088  2053013566100866035   \n",
       "2  2019-11-01 00:00:01 UTC       view    17302664  2053013553853497655   \n",
       "3  2019-11-01 00:00:01 UTC       view     3601530  2053013563810775923   \n",
       "4  2019-11-01 00:00:01 UTC       view     1004775  2053013555631882655   \n",
       "\n",
       "    brand   price    user_id                          user_session  \\\n",
       "0  xiaomi  489.07  520088904  4d3b30da-a5e4-49df-b1a8-ba5943f1dd33   \n",
       "1  janome  293.65  530496790  8e5f4f83-366c-4f70-860e-ca7417414283   \n",
       "2   creed   28.31  561587266  755422e7-9040-477b-9bd2-6a6e8fd97387   \n",
       "3      lg  712.87  518085591  3bfb58cd-7892-48cc-8020-2f17e6de6e7f   \n",
       "4  xiaomi  183.27  558856683  313628f1-68b8-460d-84f6-cec7a8796ef2   \n",
       "\n",
       "      category            type price_range  \n",
       "0  electronics      smartphone      budget  \n",
       "1   appliances  sewing_machine      budget  \n",
       "2      unknown         unknown      budget  \n",
       "3   appliances  kitchen.washer      medium  \n",
       "4  electronics      smartphone      budget  "
      ]
     },
     "execution_count": 9,
     "metadata": {},
     "output_type": "execute_result"
    }
   ],
   "source": [
    "ecommerce.head()"
   ]
  },
  {
   "cell_type": "code",
   "execution_count": 12,
   "id": "e1ca5b8a",
   "metadata": {},
   "outputs": [
    {
     "data": {
      "image/png": "[encoded data removed]",
      "text/plain": [
       "<Figure size 640x480 with 1 Axes>"
      ]
     },
     "metadata": {},
     "output_type": "display_data"
    }
   ],
   "source": [
    "ecommerce['price_range'].value_counts().plot(kind='bar')\n",
    "plt.show()"
   ]
  },
  {
   "cell_type": "code",
   "execution_count": 15,
   "id": "098a7b6c",
   "metadata": {},
   "outputs": [
    {
     "data": {
      "application/vnd.microsoft.datawrangler.viewer.v0+json": {
       "columns": [
        {
         "name": "price_range",
         "rawType": "category",
         "type": "unknown"
        },
        {
         "name": "cart",
         "rawType": "float64",
         "type": "float"
        },
        {
         "name": "purchase",
         "rawType": "float64",
         "type": "float"
        },
        {
         "name": "view",
         "rawType": "float64",
         "type": "float"
        }
       ],
       "ref": "a6ca781d-21da-42a0-8131-0db0ad70de07",
       "rows": [
        [
         "budget",
         "0.04504053630189305",
         "0.013510215282676602",
         "0.9414492484154303"
        ],
        [
         "medium",
         "0.04547727995816922",
         "0.01453918741533715",
         "0.9399835326264936"
        ],
        [
         "premium",
         "0.034725967541118154",
         "0.010825726282075298",
         "0.9544483061768065"
        ]
       ],
       "shape": {
        "columns": 3,
        "rows": 3
       }
      },
      "text/html": [
       "<div>\n",
       "<style scoped>\n",
       "    .dataframe tbody tr th:only-of-type {\n",
       "        vertical-align: middle;\n",
       "    }\n",
       "\n",
       "    .dataframe tbody tr th {\n",
       "        vertical-align: top;\n",
       "    }\n",
       "\n",
       "    .dataframe thead th {\n",
       "        text-align: right;\n",
       "    }\n",
       "</style>\n",
       "<table border=\"1\" class=\"dataframe\">\n",
       "  <thead>\n",
       "    <tr style=\"text-align: right;\">\n",
       "      <th>event_type</th>\n",
       "      <th>cart</th>\n",
       "      <th>purchase</th>\n",
       "      <th>view</th>\n",
       "    </tr>\n",
       "    <tr>\n",
       "      <th>price_range</th>\n",
       "      <th></th>\n",
       "      <th></th>\n",
       "      <th></th>\n",
       "    </tr>\n",
       "  </thead>\n",
       "  <tbody>\n",
       "    <tr>\n",
       "      <th>budget</th>\n",
       "      <td>0.045041</td>\n",
       "      <td>0.013510</td>\n",
       "      <td>0.941449</td>\n",
       "    </tr>\n",
       "    <tr>\n",
       "      <th>medium</th>\n",
       "      <td>0.045477</td>\n",
       "      <td>0.014539</td>\n",
       "      <td>0.939984</td>\n",
       "    </tr>\n",
       "    <tr>\n",
       "      <th>premium</th>\n",
       "      <td>0.034726</td>\n",
       "      <td>0.010826</td>\n",
       "      <td>0.954448</td>\n",
       "    </tr>\n",
       "  </tbody>\n",
       "</table>\n",
       "</div>"
      ],
      "text/plain": [
       "event_type       cart  purchase      view\n",
       "price_range                              \n",
       "budget       0.045041  0.013510  0.941449\n",
       "medium       0.045477  0.014539  0.939984\n",
       "premium      0.034726  0.010826  0.954448"
      ]
     },
     "execution_count": 15,
     "metadata": {},
     "output_type": "execute_result"
    }
   ],
   "source": [
    "pd.crosstab(ecommerce['price_range'], ecommerce['event_type'], normalize='index')"
   ]
  },
  {
   "cell_type": "code",
   "execution_count": 16,
   "id": "8cd80335",
   "metadata": {},
   "outputs": [
    {
     "data": {
      "image/png": "[encoded data removed]",
      "text/plain": [
       "<Figure size 640x480 with 1 Axes>"
      ]
     },
     "metadata": {},
     "output_type": "display_data"
    }
   ],
   "source": [
    "sns.countplot(data=ecommerce, x='price_range', hue='event_type')\n",
    "plt.title(\"Price_Range V/s Event_type\")\n",
    "plt.show()"
   ]
  },
  {
   "cell_type": "code",
   "execution_count": 17,
   "id": "39df4ce6",
   "metadata": {},
   "outputs": [
    {
     "name": "stderr",
     "output_type": "stream",
     "text": [
      "C:\\Users\\divya\\AppData\\Local\\Temp\\ipykernel_19432\\14386176.py:5: FutureWarning: The default of observed=False is deprecated and will be changed to True in a future version of pandas. Pass observed=False to retain current behavior or observed=True to adopt the future default and silence this warning.\n",
      "  .groupby(['price_range', 'event_type'])\n"
     ]
    },
    {
     "data": {
      "application/vnd.microsoft.datawrangler.viewer.v0+json": {
       "columns": [
        {
         "name": "price_range",
         "rawType": "category",
         "type": "unknown"
        },
        {
         "name": "cart",
         "rawType": "int64",
         "type": "integer"
        },
        {
         "name": "purchase",
         "rawType": "int64",
         "type": "integer"
        },
        {
         "name": "total",
         "rawType": "int64",
         "type": "integer"
        },
        {
         "name": "purchase_rate",
         "rawType": "float64",
         "type": "float"
        }
       ],
       "ref": "fb383f53-a479-48cf-9df3-508f9e6e9958",
       "rows": [
        [
         "budget",
         "2516389",
         "754808",
         "3271197",
         "0.23074366967198856"
        ],
        [
         "medium",
         "468267",
         "149706",
         "617973",
         "0.2422533023287425"
        ],
        [
         "premium",
         "39856",
         "12425",
         "52281",
         "0.2376580402058109"
        ]
       ],
       "shape": {
        "columns": 4,
        "rows": 3
       }
      },
      "text/html": [
       "<div>\n",
       "<style scoped>\n",
       "    .dataframe tbody tr th:only-of-type {\n",
       "        vertical-align: middle;\n",
       "    }\n",
       "\n",
       "    .dataframe tbody tr th {\n",
       "        vertical-align: top;\n",
       "    }\n",
       "\n",
       "    .dataframe thead th {\n",
       "        text-align: right;\n",
       "    }\n",
       "</style>\n",
       "<table border=\"1\" class=\"dataframe\">\n",
       "  <thead>\n",
       "    <tr style=\"text-align: right;\">\n",
       "      <th>event_type</th>\n",
       "      <th>cart</th>\n",
       "      <th>purchase</th>\n",
       "      <th>total</th>\n",
       "      <th>purchase_rate</th>\n",
       "    </tr>\n",
       "    <tr>\n",
       "      <th>price_range</th>\n",
       "      <th></th>\n",
       "      <th></th>\n",
       "      <th></th>\n",
       "      <th></th>\n",
       "    </tr>\n",
       "  </thead>\n",
       "  <tbody>\n",
       "    <tr>\n",
       "      <th>budget</th>\n",
       "      <td>2516389</td>\n",
       "      <td>754808</td>\n",
       "      <td>3271197</td>\n",
       "      <td>0.230744</td>\n",
       "    </tr>\n",
       "    <tr>\n",
       "      <th>medium</th>\n",
       "      <td>468267</td>\n",
       "      <td>149706</td>\n",
       "      <td>617973</td>\n",
       "      <td>0.242253</td>\n",
       "    </tr>\n",
       "    <tr>\n",
       "      <th>premium</th>\n",
       "      <td>39856</td>\n",
       "      <td>12425</td>\n",
       "      <td>52281</td>\n",
       "      <td>0.237658</td>\n",
       "    </tr>\n",
       "  </tbody>\n",
       "</table>\n",
       "</div>"
      ],
      "text/plain": [
       "event_type      cart  purchase    total  purchase_rate\n",
       "price_range                                           \n",
       "budget       2516389    754808  3271197       0.230744\n",
       "medium        468267    149706   617973       0.242253\n",
       "premium        39856     12425    52281       0.237658"
      ]
     },
     "execution_count": 17,
     "metadata": {},
     "output_type": "execute_result"
    }
   ],
   "source": [
    "conv_data = ecommerce[ecommerce['event_type'].isin(['cart', 'purchase'])]\n",
    "\n",
    "conversion_rates = (\n",
    "    conv_data\n",
    "    .groupby(['price_range', 'event_type'])\n",
    "    .size()\n",
    "    .unstack()\n",
    "    .fillna(0)\n",
    ")\n",
    "\n",
    "conversion_rates['total'] = conversion_rates.sum(axis=1)\n",
    "conversion_rates['purchase_rate'] = conversion_rates['purchase'] / conversion_rates['total']\n",
    "conversion_rates.head()\n"
   ]
  },
  {
   "cell_type": "code",
   "execution_count": 18,
   "id": "f1db00fe",
   "metadata": {},
   "outputs": [
    {
     "data": {
      "text/plain": [
       "<Axes: xlabel='price_range', ylabel='hour'>"
      ]
     },
     "execution_count": 18,
     "metadata": {},
     "output_type": "execute_result"
    },
    {
     "data": {
      "image/png": "[encoded data removed]",
      "text/plain": [
       "<Figure size 640x480 with 1 Axes>"
      ]
     },
     "metadata": {},
     "output_type": "display_data"
    }
   ],
   "source": [
    "ecommerce['event_time'] = pd.to_datetime(ecommerce['event_time'])\n",
    "\n",
    "ecommerce['hour'] = ecommerce['event_time'].dt.hour\n",
    "sns.boxplot(data=ecommerce, x='price_range', y='hour')\n"
   ]
  },
  {
   "cell_type": "markdown",
   "id": "8a2e02a8",
   "metadata": {},
   "source": [
    "### Interaction Intensity"
   ]
  },
  {
   "cell_type": "code",
   "execution_count": 19,
   "id": "9478aea0",
   "metadata": {},
   "outputs": [],
   "source": [
    "event_map = {'view': 0, 'cart': 1, 'purchase': 2}\n",
    "ecommerce['event_score'] = ecommerce['event_type'].map(event_map)"
   ]
  },
  {
   "cell_type": "code",
   "execution_count": 20,
   "id": "9eb524f2",
   "metadata": {},
   "outputs": [
    {
     "name": "stderr",
     "output_type": "stream",
     "text": [
      "C:\\Users\\divya\\AppData\\Local\\Temp\\ipykernel_19432\\1988156679.py:1: FutureWarning: The default of observed=False is deprecated and will be changed to True in a future version of pandas. Pass observed=False to retain current behavior or observed=True to adopt the future default and silence this warning.\n",
      "  ecommerce.groupby('price_range')['event_score'].mean()\n"
     ]
    },
    {
     "data": {
      "application/vnd.microsoft.datawrangler.viewer.v0+json": {
       "columns": [
        {
         "name": "price_range",
         "rawType": "category",
         "type": "unknown"
        },
        {
         "name": "event_score",
         "rawType": "float64",
         "type": "float"
        }
       ],
       "ref": "4483a56e-6951-496d-bcae-4759add8240c",
       "rows": [
        [
         "budget",
         "0.07206096686724625"
        ],
        [
         "medium",
         "0.07455565478884352"
        ],
        [
         "premium",
         "0.05637742010526875"
        ]
       ],
       "shape": {
        "columns": 1,
        "rows": 3
       }
      },
      "text/plain": [
       "price_range\n",
       "budget     0.072061\n",
       "medium     0.074556\n",
       "premium    0.056377\n",
       "Name: event_score, dtype: float64"
      ]
     },
     "execution_count": 20,
     "metadata": {},
     "output_type": "execute_result"
    }
   ],
   "source": [
    "ecommerce.groupby('price_range')['event_score'].mean()"
   ]
  }
 ],
 "metadata": {
  "kernelspec": {
   "display_name": "DataScience",
   "language": "python",
   "name": "python3"
  },
  "language_info": {
   "codemirror_mode": {
    "name": "ipython",
    "version": 3
   },
   "file_extension": ".py",
   "mimetype": "text/x-python",
   "name": "python",
   "nbconvert_exporter": "python",
   "pygments_lexer": "ipython3",
   "version": "3.12.10"
  }
 },
 "nbformat": 4,
 "nbformat_minor": 5
}
