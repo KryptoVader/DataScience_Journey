{
 "cells": [
  {
   "cell_type": "code",
   "execution_count": 1,
   "id": "cd483322",
   "metadata": {},
   "outputs": [],
   "source": [
    "import pandas as pd\n",
    "import numpy as np\n",
    "import matplotlib.pyplot as plt\n",
    "import seaborn as sns"
   ]
  },
  {
   "cell_type": "code",
   "execution_count": 3,
   "id": "208b2ad7",
   "metadata": {},
   "outputs": [
    {
     "data": {
      "application/vnd.microsoft.datawrangler.viewer.v0+json": {
       "columns": [
        {
         "name": "index",
         "rawType": "int64",
         "type": "integer"
        },
        {
         "name": "Age",
         "rawType": "int64",
         "type": "integer"
        },
        {
         "name": "Gender",
         "rawType": "object",
         "type": "string"
        },
        {
         "name": "Avg_Daily_Screen_Time_hr",
         "rawType": "float64",
         "type": "float"
        },
        {
         "name": "Primary_Device",
         "rawType": "object",
         "type": "string"
        },
        {
         "name": "Exceeded_Recommended_Limit",
         "rawType": "bool",
         "type": "boolean"
        },
        {
         "name": "Educational_to_Recreational_Ratio",
         "rawType": "float64",
         "type": "float"
        },
        {
         "name": "Health_Impacts",
         "rawType": "object",
         "type": "unknown"
        },
        {
         "name": "Urban_or_Rural",
         "rawType": "object",
         "type": "string"
        }
       ],
       "ref": "f66b983b-9849-4909-8418-ebd254803d24",
       "rows": [
        [
         "0",
         "14",
         "Male",
         "3.99",
         "Smartphone",
         "True",
         "0.42",
         "Poor Sleep, Eye Strain",
         "Urban"
        ],
        [
         "1",
         "11",
         "Female",
         "4.61",
         "Laptop",
         "True",
         "0.3",
         "Poor Sleep",
         "Urban"
        ],
        [
         "2",
         "18",
         "Female",
         "3.73",
         "TV",
         "True",
         "0.32",
         "Poor Sleep",
         "Urban"
        ],
        [
         "3",
         "15",
         "Female",
         "1.21",
         "Laptop",
         "False",
         "0.39",
         null,
         "Urban"
        ],
        [
         "4",
         "12",
         "Female",
         "5.89",
         "Smartphone",
         "True",
         "0.49",
         "Poor Sleep, Anxiety",
         "Urban"
        ]
       ],
       "shape": {
        "columns": 8,
        "rows": 5
       }
      },
      "text/html": [
       "<div>\n",
       "<style scoped>\n",
       "    .dataframe tbody tr th:only-of-type {\n",
       "        vertical-align: middle;\n",
       "    }\n",
       "\n",
       "    .dataframe tbody tr th {\n",
       "        vertical-align: top;\n",
       "    }\n",
       "\n",
       "    .dataframe thead th {\n",
       "        text-align: right;\n",
       "    }\n",
       "</style>\n",
       "<table border=\"1\" class=\"dataframe\">\n",
       "  <thead>\n",
       "    <tr style=\"text-align: right;\">\n",
       "      <th></th>\n",
       "      <th>Age</th>\n",
       "      <th>Gender</th>\n",
       "      <th>Avg_Daily_Screen_Time_hr</th>\n",
       "      <th>Primary_Device</th>\n",
       "      <th>Exceeded_Recommended_Limit</th>\n",
       "      <th>Educational_to_Recreational_Ratio</th>\n",
       "      <th>Health_Impacts</th>\n",
       "      <th>Urban_or_Rural</th>\n",
       "    </tr>\n",
       "  </thead>\n",
       "  <tbody>\n",
       "    <tr>\n",
       "      <th>0</th>\n",
       "      <td>14</td>\n",
       "      <td>Male</td>\n",
       "      <td>3.99</td>\n",
       "      <td>Smartphone</td>\n",
       "      <td>True</td>\n",
       "      <td>0.42</td>\n",
       "      <td>Poor Sleep, Eye Strain</td>\n",
       "      <td>Urban</td>\n",
       "    </tr>\n",
       "    <tr>\n",
       "      <th>1</th>\n",
       "      <td>11</td>\n",
       "      <td>Female</td>\n",
       "      <td>4.61</td>\n",
       "      <td>Laptop</td>\n",
       "      <td>True</td>\n",
       "      <td>0.30</td>\n",
       "      <td>Poor Sleep</td>\n",
       "      <td>Urban</td>\n",
       "    </tr>\n",
       "    <tr>\n",
       "      <th>2</th>\n",
       "      <td>18</td>\n",
       "      <td>Female</td>\n",
       "      <td>3.73</td>\n",
       "      <td>TV</td>\n",
       "      <td>True</td>\n",
       "      <td>0.32</td>\n",
       "      <td>Poor Sleep</td>\n",
       "      <td>Urban</td>\n",
       "    </tr>\n",
       "    <tr>\n",
       "      <th>3</th>\n",
       "      <td>15</td>\n",
       "      <td>Female</td>\n",
       "      <td>1.21</td>\n",
       "      <td>Laptop</td>\n",
       "      <td>False</td>\n",
       "      <td>0.39</td>\n",
       "      <td>NaN</td>\n",
       "      <td>Urban</td>\n",
       "    </tr>\n",
       "    <tr>\n",
       "      <th>4</th>\n",
       "      <td>12</td>\n",
       "      <td>Female</td>\n",
       "      <td>5.89</td>\n",
       "      <td>Smartphone</td>\n",
       "      <td>True</td>\n",
       "      <td>0.49</td>\n",
       "      <td>Poor Sleep, Anxiety</td>\n",
       "      <td>Urban</td>\n",
       "    </tr>\n",
       "  </tbody>\n",
       "</table>\n",
       "</div>"
      ],
      "text/plain": [
       "   Age  Gender  Avg_Daily_Screen_Time_hr Primary_Device  \\\n",
       "0   14    Male                      3.99     Smartphone   \n",
       "1   11  Female                      4.61         Laptop   \n",
       "2   18  Female                      3.73             TV   \n",
       "3   15  Female                      1.21         Laptop   \n",
       "4   12  Female                      5.89     Smartphone   \n",
       "\n",
       "   Exceeded_Recommended_Limit  Educational_to_Recreational_Ratio  \\\n",
       "0                        True                               0.42   \n",
       "1                        True                               0.30   \n",
       "2                        True                               0.32   \n",
       "3                       False                               0.39   \n",
       "4                        True                               0.49   \n",
       "\n",
       "           Health_Impacts Urban_or_Rural  \n",
       "0  Poor Sleep, Eye Strain          Urban  \n",
       "1              Poor Sleep          Urban  \n",
       "2              Poor Sleep          Urban  \n",
       "3                     NaN          Urban  \n",
       "4     Poor Sleep, Anxiety          Urban  "
      ]
     },
     "execution_count": 3,
     "metadata": {},
     "output_type": "execute_result"
    }
   ],
   "source": [
    "screen = pd.read_csv(r\"C:\\Datasets\\Indian_Kids_Screen_Time.csv\")\n",
    "screen.head()"
   ]
  },
  {
   "cell_type": "code",
   "execution_count": 4,
   "id": "cdce2dec",
   "metadata": {},
   "outputs": [
    {
     "data": {
      "text/plain": [
       "(9712, 8)"
      ]
     },
     "execution_count": 4,
     "metadata": {},
     "output_type": "execute_result"
    }
   ],
   "source": [
    "screen.shape"
   ]
  },
  {
   "cell_type": "code",
   "execution_count": 5,
   "id": "d2944271",
   "metadata": {},
   "outputs": [
    {
     "name": "stdout",
     "output_type": "stream",
     "text": [
      "<class 'pandas.core.frame.DataFrame'>\n",
      "RangeIndex: 9712 entries, 0 to 9711\n",
      "Data columns (total 8 columns):\n",
      " #   Column                             Non-Null Count  Dtype  \n",
      "---  ------                             --------------  -----  \n",
      " 0   Age                                9712 non-null   int64  \n",
      " 1   Gender                             9712 non-null   object \n",
      " 2   Avg_Daily_Screen_Time_hr           9712 non-null   float64\n",
      " 3   Primary_Device                     9712 non-null   object \n",
      " 4   Exceeded_Recommended_Limit         9712 non-null   bool   \n",
      " 5   Educational_to_Recreational_Ratio  9712 non-null   float64\n",
      " 6   Health_Impacts                     6494 non-null   object \n",
      " 7   Urban_or_Rural                     9712 non-null   object \n",
      "dtypes: bool(1), float64(2), int64(1), object(4)\n",
      "memory usage: 540.7+ KB\n"
     ]
    }
   ],
   "source": [
    "screen.info()"
   ]
  },
  {
   "cell_type": "code",
   "execution_count": 6,
   "id": "9cea6e2e",
   "metadata": {},
   "outputs": [
    {
     "data": {
      "application/vnd.microsoft.datawrangler.viewer.v0+json": {
       "columns": [
        {
         "name": "index",
         "rawType": "object",
         "type": "string"
        },
        {
         "name": "0",
         "rawType": "int64",
         "type": "integer"
        }
       ],
       "ref": "eef731e6-892a-4b15-bf7c-b98df8287595",
       "rows": [
        [
         "Age",
         "0"
        ],
        [
         "Gender",
         "0"
        ],
        [
         "Avg_Daily_Screen_Time_hr",
         "0"
        ],
        [
         "Primary_Device",
         "0"
        ],
        [
         "Exceeded_Recommended_Limit",
         "0"
        ],
        [
         "Educational_to_Recreational_Ratio",
         "0"
        ],
        [
         "Health_Impacts",
         "3218"
        ],
        [
         "Urban_or_Rural",
         "0"
        ]
       ],
       "shape": {
        "columns": 1,
        "rows": 8
       }
      },
      "text/plain": [
       "Age                                     0\n",
       "Gender                                  0\n",
       "Avg_Daily_Screen_Time_hr                0\n",
       "Primary_Device                          0\n",
       "Exceeded_Recommended_Limit              0\n",
       "Educational_to_Recreational_Ratio       0\n",
       "Health_Impacts                       3218\n",
       "Urban_or_Rural                          0\n",
       "dtype: int64"
      ]
     },
     "execution_count": 6,
     "metadata": {},
     "output_type": "execute_result"
    }
   ],
   "source": [
    "screen.isna().sum()"
   ]
  },
  {
   "cell_type": "code",
   "execution_count": 7,
   "id": "23bb866d",
   "metadata": {},
   "outputs": [
    {
     "data": {
      "application/vnd.microsoft.datawrangler.viewer.v0+json": {
       "columns": [
        {
         "name": "index",
         "rawType": "object",
         "type": "string"
        },
        {
         "name": "Age",
         "rawType": "float64",
         "type": "float"
        },
        {
         "name": "Avg_Daily_Screen_Time_hr",
         "rawType": "float64",
         "type": "float"
        },
        {
         "name": "Educational_to_Recreational_Ratio",
         "rawType": "float64",
         "type": "float"
        }
       ],
       "ref": "a605d75a-b162-465e-a7bc-9c0d5e4e8dd3",
       "rows": [
        [
         "count",
         "9712.0",
         "9712.0",
         "9712.0"
        ],
        [
         "mean",
         "12.979200988467875",
         "4.3528366968698515",
         "0.4272261120263592"
        ],
        [
         "std",
         "3.1624371963193587",
         "1.7182324590516294",
         "0.07322124121854533"
        ],
        [
         "min",
         "8.0",
         "0.0",
         "0.3"
        ],
        [
         "25%",
         "10.0",
         "3.41",
         "0.37"
        ],
        [
         "50%",
         "13.0",
         "4.44",
         "0.43"
        ],
        [
         "75%",
         "16.0",
         "5.38",
         "0.48"
        ],
        [
         "max",
         "18.0",
         "13.89",
         "0.6"
        ]
       ],
       "shape": {
        "columns": 3,
        "rows": 8
       }
      },
      "text/html": [
       "<div>\n",
       "<style scoped>\n",
       "    .dataframe tbody tr th:only-of-type {\n",
       "        vertical-align: middle;\n",
       "    }\n",
       "\n",
       "    .dataframe tbody tr th {\n",
       "        vertical-align: top;\n",
       "    }\n",
       "\n",
       "    .dataframe thead th {\n",
       "        text-align: right;\n",
       "    }\n",
       "</style>\n",
       "<table border=\"1\" class=\"dataframe\">\n",
       "  <thead>\n",
       "    <tr style=\"text-align: right;\">\n",
       "      <th></th>\n",
       "      <th>Age</th>\n",
       "      <th>Avg_Daily_Screen_Time_hr</th>\n",
       "      <th>Educational_to_Recreational_Ratio</th>\n",
       "    </tr>\n",
       "  </thead>\n",
       "  <tbody>\n",
       "    <tr>\n",
       "      <th>count</th>\n",
       "      <td>9712.000000</td>\n",
       "      <td>9712.000000</td>\n",
       "      <td>9712.000000</td>\n",
       "    </tr>\n",
       "    <tr>\n",
       "      <th>mean</th>\n",
       "      <td>12.979201</td>\n",
       "      <td>4.352837</td>\n",
       "      <td>0.427226</td>\n",
       "    </tr>\n",
       "    <tr>\n",
       "      <th>std</th>\n",
       "      <td>3.162437</td>\n",
       "      <td>1.718232</td>\n",
       "      <td>0.073221</td>\n",
       "    </tr>\n",
       "    <tr>\n",
       "      <th>min</th>\n",
       "      <td>8.000000</td>\n",
       "      <td>0.000000</td>\n",
       "      <td>0.300000</td>\n",
       "    </tr>\n",
       "    <tr>\n",
       "      <th>25%</th>\n",
       "      <td>10.000000</td>\n",
       "      <td>3.410000</td>\n",
       "      <td>0.370000</td>\n",
       "    </tr>\n",
       "    <tr>\n",
       "      <th>50%</th>\n",
       "      <td>13.000000</td>\n",
       "      <td>4.440000</td>\n",
       "      <td>0.430000</td>\n",
       "    </tr>\n",
       "    <tr>\n",
       "      <th>75%</th>\n",
       "      <td>16.000000</td>\n",
       "      <td>5.380000</td>\n",
       "      <td>0.480000</td>\n",
       "    </tr>\n",
       "    <tr>\n",
       "      <th>max</th>\n",
       "      <td>18.000000</td>\n",
       "      <td>13.890000</td>\n",
       "      <td>0.600000</td>\n",
       "    </tr>\n",
       "  </tbody>\n",
       "</table>\n",
       "</div>"
      ],
      "text/plain": [
       "               Age  Avg_Daily_Screen_Time_hr  \\\n",
       "count  9712.000000               9712.000000   \n",
       "mean     12.979201                  4.352837   \n",
       "std       3.162437                  1.718232   \n",
       "min       8.000000                  0.000000   \n",
       "25%      10.000000                  3.410000   \n",
       "50%      13.000000                  4.440000   \n",
       "75%      16.000000                  5.380000   \n",
       "max      18.000000                 13.890000   \n",
       "\n",
       "       Educational_to_Recreational_Ratio  \n",
       "count                        9712.000000  \n",
       "mean                            0.427226  \n",
       "std                             0.073221  \n",
       "min                             0.300000  \n",
       "25%                             0.370000  \n",
       "50%                             0.430000  \n",
       "75%                             0.480000  \n",
       "max                             0.600000  "
      ]
     },
     "execution_count": 7,
     "metadata": {},
     "output_type": "execute_result"
    }
   ],
   "source": [
    "screen.describe()"
   ]
  },
  {
   "cell_type": "code",
   "execution_count": 10,
   "id": "bb8f20d1",
   "metadata": {},
   "outputs": [
    {
     "data": {
      "application/vnd.microsoft.datawrangler.viewer.v0+json": {
       "columns": [
        {
         "name": "index",
         "rawType": "int64",
         "type": "integer"
        },
        {
         "name": "Age",
         "rawType": "int64",
         "type": "integer"
        },
        {
         "name": "Gender",
         "rawType": "object",
         "type": "string"
        },
        {
         "name": "Avg_Daily_Screen_Time_hr",
         "rawType": "float64",
         "type": "float"
        },
        {
         "name": "Primary_Device",
         "rawType": "object",
         "type": "string"
        },
        {
         "name": "Exceeded_Recommended_Limit",
         "rawType": "bool",
         "type": "boolean"
        },
        {
         "name": "Educational_to_Recreational_Ratio",
         "rawType": "float64",
         "type": "float"
        },
        {
         "name": "Health_Impacts",
         "rawType": "object",
         "type": "unknown"
        },
        {
         "name": "Urban_or_Rural",
         "rawType": "object",
         "type": "string"
        }
       ],
       "ref": "98e091b5-2ff8-4088-9cb9-108378f33923",
       "rows": [
        [
         "3",
         "15",
         "Female",
         "1.21",
         "Laptop",
         "False",
         "0.39",
         null,
         "Urban"
        ],
        [
         "6",
         "17",
         "Male",
         "2.97",
         "TV",
         "False",
         "0.48",
         null,
         "Rural"
        ],
        [
         "7",
         "10",
         "Male",
         "2.74",
         "TV",
         "True",
         "0.54",
         null,
         "Urban"
        ],
        [
         "19",
         "9",
         "Female",
         "0.0",
         "TV",
         "False",
         "0.42",
         null,
         "Urban"
        ],
        [
         "22",
         "9",
         "Female",
         "1.63",
         "Tablet",
         "False",
         "0.58",
         null,
         "Urban"
        ],
        [
         "25",
         "17",
         "Male",
         "4.96",
         "Smartphone",
         "True",
         "0.32",
         null,
         "Urban"
        ],
        [
         "26",
         "13",
         "Female",
         "1.85",
         "Smartphone",
         "False",
         "0.49",
         null,
         "Urban"
        ],
        [
         "28",
         "8",
         "Male",
         "0.31",
         "Smartphone",
         "False",
         "0.51",
         null,
         "Urban"
        ],
        [
         "31",
         "17",
         "Female",
         "3.02",
         "Smartphone",
         "True",
         "0.39",
         null,
         "Rural"
        ],
        [
         "32",
         "10",
         "Male",
         "2.16",
         "Tablet",
         "True",
         "0.41",
         null,
         "Urban"
        ],
        [
         "37",
         "12",
         "Female",
         "1.63",
         "Smartphone",
         "False",
         "0.5",
         null,
         "Urban"
        ],
        [
         "44",
         "11",
         "Male",
         "2.75",
         "Smartphone",
         "False",
         "0.35",
         null,
         "Rural"
        ],
        [
         "46",
         "9",
         "Female",
         "0.0",
         "Smartphone",
         "False",
         "0.47",
         null,
         "Urban"
        ],
        [
         "47",
         "17",
         "Male",
         "2.34",
         "Smartphone",
         "False",
         "0.48",
         null,
         "Rural"
        ],
        [
         "48",
         "16",
         "Male",
         "2.85",
         "Smartphone",
         "False",
         "0.3",
         null,
         "Rural"
        ],
        [
         "51",
         "9",
         "Female",
         "1.06",
         "Smartphone",
         "False",
         "0.42",
         null,
         "Urban"
        ],
        [
         "52",
         "11",
         "Male",
         "2.83",
         "Smartphone",
         "False",
         "0.4",
         null,
         "Urban"
        ],
        [
         "53",
         "14",
         "Male",
         "3.92",
         "Smartphone",
         "True",
         "0.47",
         null,
         "Urban"
        ],
        [
         "58",
         "9",
         "Male",
         "0.0",
         "Smartphone",
         "False",
         "0.59",
         null,
         "Rural"
        ],
        [
         "59",
         "15",
         "Male",
         "3.47",
         "Smartphone",
         "True",
         "0.41",
         null,
         "Rural"
        ],
        [
         "61",
         "9",
         "Male",
         "2.3",
         "Smartphone",
         "True",
         "0.45",
         null,
         "Urban"
        ],
        [
         "62",
         "13",
         "Male",
         "4.5",
         "Laptop",
         "True",
         "0.38",
         null,
         "Urban"
        ],
        [
         "63",
         "13",
         "Female",
         "2.65",
         "Laptop",
         "False",
         "0.38",
         null,
         "Rural"
        ],
        [
         "64",
         "17",
         "Male",
         "5.34",
         "Laptop",
         "True",
         "0.43",
         null,
         "Urban"
        ],
        [
         "69",
         "9",
         "Male",
         "0.9",
         "Tablet",
         "False",
         "0.6",
         null,
         "Rural"
        ],
        [
         "70",
         "17",
         "Female",
         "3.3",
         "TV",
         "True",
         "0.42",
         null,
         "Urban"
        ],
        [
         "75",
         "15",
         "Female",
         "2.69",
         "TV",
         "False",
         "0.32",
         null,
         "Urban"
        ],
        [
         "77",
         "9",
         "Male",
         "4.23",
         "TV",
         "True",
         "0.46",
         null,
         "Urban"
        ],
        [
         "80",
         "17",
         "Male",
         "3.41",
         "Laptop",
         "True",
         "0.31",
         null,
         "Rural"
        ],
        [
         "82",
         "16",
         "Male",
         "2.9",
         "Smartphone",
         "False",
         "0.31",
         null,
         "Urban"
        ],
        [
         "85",
         "14",
         "Female",
         "5.43",
         "Smartphone",
         "True",
         "0.49",
         null,
         "Urban"
        ],
        [
         "88",
         "8",
         "Female",
         "1.67",
         "Smartphone",
         "False",
         "0.45",
         null,
         "Rural"
        ],
        [
         "92",
         "10",
         "Female",
         "0.0",
         "Tablet",
         "False",
         "0.4",
         null,
         "Urban"
        ],
        [
         "93",
         "8",
         "Male",
         "3.39",
         "TV",
         "True",
         "0.43",
         null,
         "Rural"
        ],
        [
         "95",
         "10",
         "Female",
         "1.36",
         "Smartphone",
         "False",
         "0.57",
         null,
         "Urban"
        ],
        [
         "96",
         "10",
         "Male",
         "0.0",
         "Smartphone",
         "False",
         "0.45",
         null,
         "Rural"
        ],
        [
         "97",
         "8",
         "Male",
         "2.75",
         "TV",
         "True",
         "0.53",
         null,
         "Rural"
        ],
        [
         "98",
         "18",
         "Female",
         "6.4",
         "Smartphone",
         "True",
         "0.32",
         null,
         "Urban"
        ],
        [
         "102",
         "17",
         "Female",
         "2.78",
         "Smartphone",
         "False",
         "0.34",
         null,
         "Urban"
        ],
        [
         "107",
         "9",
         "Female",
         "0.45",
         "Smartphone",
         "False",
         "0.46",
         null,
         "Rural"
        ],
        [
         "108",
         "8",
         "Male",
         "2.52",
         "Smartphone",
         "True",
         "0.58",
         null,
         "Urban"
        ],
        [
         "109",
         "14",
         "Male",
         "6.04",
         "Smartphone",
         "True",
         "0.39",
         null,
         "Urban"
        ],
        [
         "112",
         "12",
         "Male",
         "2.34",
         "Smartphone",
         "False",
         "0.37",
         null,
         "Urban"
        ],
        [
         "117",
         "10",
         "Male",
         "4.98",
         "Smartphone",
         "True",
         "0.46",
         null,
         "Rural"
        ],
        [
         "119",
         "10",
         "Female",
         "5.02",
         "TV",
         "True",
         "0.6",
         null,
         "Urban"
        ],
        [
         "121",
         "10",
         "Female",
         "1.86",
         "Smartphone",
         "False",
         "0.46",
         null,
         "Rural"
        ],
        [
         "122",
         "8",
         "Female",
         "6.48",
         "Smartphone",
         "True",
         "0.48",
         null,
         "Rural"
        ],
        [
         "128",
         "16",
         "Female",
         "2.42",
         "Smartphone",
         "False",
         "0.45",
         null,
         "Urban"
        ],
        [
         "140",
         "11",
         "Male",
         "3.75",
         "Smartphone",
         "True",
         "0.43",
         null,
         "Urban"
        ],
        [
         "142",
         "18",
         "Female",
         "3.58",
         "Smartphone",
         "True",
         "0.38",
         null,
         "Urban"
        ]
       ],
       "shape": {
        "columns": 8,
        "rows": 3218
       }
      },
      "text/html": [
       "<div>\n",
       "<style scoped>\n",
       "    .dataframe tbody tr th:only-of-type {\n",
       "        vertical-align: middle;\n",
       "    }\n",
       "\n",
       "    .dataframe tbody tr th {\n",
       "        vertical-align: top;\n",
       "    }\n",
       "\n",
       "    .dataframe thead th {\n",
       "        text-align: right;\n",
       "    }\n",
       "</style>\n",
       "<table border=\"1\" class=\"dataframe\">\n",
       "  <thead>\n",
       "    <tr style=\"text-align: right;\">\n",
       "      <th></th>\n",
       "      <th>Age</th>\n",
       "      <th>Gender</th>\n",
       "      <th>Avg_Daily_Screen_Time_hr</th>\n",
       "      <th>Primary_Device</th>\n",
       "      <th>Exceeded_Recommended_Limit</th>\n",
       "      <th>Educational_to_Recreational_Ratio</th>\n",
       "      <th>Health_Impacts</th>\n",
       "      <th>Urban_or_Rural</th>\n",
       "    </tr>\n",
       "  </thead>\n",
       "  <tbody>\n",
       "    <tr>\n",
       "      <th>3</th>\n",
       "      <td>15</td>\n",
       "      <td>Female</td>\n",
       "      <td>1.21</td>\n",
       "      <td>Laptop</td>\n",
       "      <td>False</td>\n",
       "      <td>0.39</td>\n",
       "      <td>NaN</td>\n",
       "      <td>Urban</td>\n",
       "    </tr>\n",
       "    <tr>\n",
       "      <th>6</th>\n",
       "      <td>17</td>\n",
       "      <td>Male</td>\n",
       "      <td>2.97</td>\n",
       "      <td>TV</td>\n",
       "      <td>False</td>\n",
       "      <td>0.48</td>\n",
       "      <td>NaN</td>\n",
       "      <td>Rural</td>\n",
       "    </tr>\n",
       "    <tr>\n",
       "      <th>7</th>\n",
       "      <td>10</td>\n",
       "      <td>Male</td>\n",
       "      <td>2.74</td>\n",
       "      <td>TV</td>\n",
       "      <td>True</td>\n",
       "      <td>0.54</td>\n",
       "      <td>NaN</td>\n",
       "      <td>Urban</td>\n",
       "    </tr>\n",
       "    <tr>\n",
       "      <th>19</th>\n",
       "      <td>9</td>\n",
       "      <td>Female</td>\n",
       "      <td>0.00</td>\n",
       "      <td>TV</td>\n",
       "      <td>False</td>\n",
       "      <td>0.42</td>\n",
       "      <td>NaN</td>\n",
       "      <td>Urban</td>\n",
       "    </tr>\n",
       "    <tr>\n",
       "      <th>22</th>\n",
       "      <td>9</td>\n",
       "      <td>Female</td>\n",
       "      <td>1.63</td>\n",
       "      <td>Tablet</td>\n",
       "      <td>False</td>\n",
       "      <td>0.58</td>\n",
       "      <td>NaN</td>\n",
       "      <td>Urban</td>\n",
       "    </tr>\n",
       "    <tr>\n",
       "      <th>...</th>\n",
       "      <td>...</td>\n",
       "      <td>...</td>\n",
       "      <td>...</td>\n",
       "      <td>...</td>\n",
       "      <td>...</td>\n",
       "      <td>...</td>\n",
       "      <td>...</td>\n",
       "      <td>...</td>\n",
       "    </tr>\n",
       "    <tr>\n",
       "      <th>9695</th>\n",
       "      <td>12</td>\n",
       "      <td>Female</td>\n",
       "      <td>2.69</td>\n",
       "      <td>Smartphone</td>\n",
       "      <td>False</td>\n",
       "      <td>0.48</td>\n",
       "      <td>NaN</td>\n",
       "      <td>Urban</td>\n",
       "    </tr>\n",
       "    <tr>\n",
       "      <th>9697</th>\n",
       "      <td>16</td>\n",
       "      <td>Female</td>\n",
       "      <td>4.74</td>\n",
       "      <td>Smartphone</td>\n",
       "      <td>True</td>\n",
       "      <td>0.41</td>\n",
       "      <td>NaN</td>\n",
       "      <td>Rural</td>\n",
       "    </tr>\n",
       "    <tr>\n",
       "      <th>9699</th>\n",
       "      <td>10</td>\n",
       "      <td>Female</td>\n",
       "      <td>2.85</td>\n",
       "      <td>TV</td>\n",
       "      <td>True</td>\n",
       "      <td>0.49</td>\n",
       "      <td>NaN</td>\n",
       "      <td>Urban</td>\n",
       "    </tr>\n",
       "    <tr>\n",
       "      <th>9701</th>\n",
       "      <td>16</td>\n",
       "      <td>Male</td>\n",
       "      <td>6.08</td>\n",
       "      <td>Smartphone</td>\n",
       "      <td>True</td>\n",
       "      <td>0.38</td>\n",
       "      <td>NaN</td>\n",
       "      <td>Urban</td>\n",
       "    </tr>\n",
       "    <tr>\n",
       "      <th>9706</th>\n",
       "      <td>8</td>\n",
       "      <td>Male</td>\n",
       "      <td>4.84</td>\n",
       "      <td>Smartphone</td>\n",
       "      <td>True</td>\n",
       "      <td>0.55</td>\n",
       "      <td>NaN</td>\n",
       "      <td>Rural</td>\n",
       "    </tr>\n",
       "  </tbody>\n",
       "</table>\n",
       "<p>3218 rows × 8 columns</p>\n",
       "</div>"
      ],
      "text/plain": [
       "      Age  Gender  Avg_Daily_Screen_Time_hr Primary_Device  \\\n",
       "3      15  Female                      1.21         Laptop   \n",
       "6      17    Male                      2.97             TV   \n",
       "7      10    Male                      2.74             TV   \n",
       "19      9  Female                      0.00             TV   \n",
       "22      9  Female                      1.63         Tablet   \n",
       "...   ...     ...                       ...            ...   \n",
       "9695   12  Female                      2.69     Smartphone   \n",
       "9697   16  Female                      4.74     Smartphone   \n",
       "9699   10  Female                      2.85             TV   \n",
       "9701   16    Male                      6.08     Smartphone   \n",
       "9706    8    Male                      4.84     Smartphone   \n",
       "\n",
       "      Exceeded_Recommended_Limit  Educational_to_Recreational_Ratio  \\\n",
       "3                          False                               0.39   \n",
       "6                          False                               0.48   \n",
       "7                           True                               0.54   \n",
       "19                         False                               0.42   \n",
       "22                         False                               0.58   \n",
       "...                          ...                                ...   \n",
       "9695                       False                               0.48   \n",
       "9697                        True                               0.41   \n",
       "9699                        True                               0.49   \n",
       "9701                        True                               0.38   \n",
       "9706                        True                               0.55   \n",
       "\n",
       "     Health_Impacts Urban_or_Rural  \n",
       "3               NaN          Urban  \n",
       "6               NaN          Rural  \n",
       "7               NaN          Urban  \n",
       "19              NaN          Urban  \n",
       "22              NaN          Urban  \n",
       "...             ...            ...  \n",
       "9695            NaN          Urban  \n",
       "9697            NaN          Rural  \n",
       "9699            NaN          Urban  \n",
       "9701            NaN          Urban  \n",
       "9706            NaN          Rural  \n",
       "\n",
       "[3218 rows x 8 columns]"
      ]
     },
     "execution_count": 10,
     "metadata": {},
     "output_type": "execute_result"
    }
   ],
   "source": [
    "screen[screen['Health_Impacts'].isna()]"
   ]
  },
  {
   "cell_type": "code",
   "execution_count": 15,
   "id": "11819489",
   "metadata": {},
   "outputs": [],
   "source": [
    "screen['Health_Impacts'] = screen.Health_Impacts.fillna('None')"
   ]
  },
  {
   "cell_type": "code",
   "execution_count": 16,
   "id": "c22a294d",
   "metadata": {},
   "outputs": [
    {
     "data": {
      "application/vnd.microsoft.datawrangler.viewer.v0+json": {
       "columns": [
        {
         "name": "index",
         "rawType": "int64",
         "type": "integer"
        },
        {
         "name": "Age",
         "rawType": "int64",
         "type": "integer"
        },
        {
         "name": "Gender",
         "rawType": "object",
         "type": "string"
        },
        {
         "name": "Avg_Daily_Screen_Time_hr",
         "rawType": "float64",
         "type": "float"
        },
        {
         "name": "Primary_Device",
         "rawType": "object",
         "type": "string"
        },
        {
         "name": "Exceeded_Recommended_Limit",
         "rawType": "bool",
         "type": "boolean"
        },
        {
         "name": "Educational_to_Recreational_Ratio",
         "rawType": "float64",
         "type": "float"
        },
        {
         "name": "Health_Impacts",
         "rawType": "object",
         "type": "string"
        },
        {
         "name": "Urban_or_Rural",
         "rawType": "object",
         "type": "string"
        }
       ],
       "ref": "f7b3f844-50d3-49c2-a0d9-8388761baf63",
       "rows": [
        [
         "0",
         "14",
         "Male",
         "3.99",
         "Smartphone",
         "True",
         "0.42",
         "Poor Sleep, Eye Strain",
         "Urban"
        ],
        [
         "1",
         "11",
         "Female",
         "4.61",
         "Laptop",
         "True",
         "0.3",
         "Poor Sleep",
         "Urban"
        ],
        [
         "2",
         "18",
         "Female",
         "3.73",
         "TV",
         "True",
         "0.32",
         "Poor Sleep",
         "Urban"
        ],
        [
         "3",
         "15",
         "Female",
         "1.21",
         "Laptop",
         "False",
         "0.39",
         "None",
         "Urban"
        ],
        [
         "4",
         "12",
         "Female",
         "5.89",
         "Smartphone",
         "True",
         "0.49",
         "Poor Sleep, Anxiety",
         "Urban"
        ]
       ],
       "shape": {
        "columns": 8,
        "rows": 5
       }
      },
      "text/html": [
       "<div>\n",
       "<style scoped>\n",
       "    .dataframe tbody tr th:only-of-type {\n",
       "        vertical-align: middle;\n",
       "    }\n",
       "\n",
       "    .dataframe tbody tr th {\n",
       "        vertical-align: top;\n",
       "    }\n",
       "\n",
       "    .dataframe thead th {\n",
       "        text-align: right;\n",
       "    }\n",
       "</style>\n",
       "<table border=\"1\" class=\"dataframe\">\n",
       "  <thead>\n",
       "    <tr style=\"text-align: right;\">\n",
       "      <th></th>\n",
       "      <th>Age</th>\n",
       "      <th>Gender</th>\n",
       "      <th>Avg_Daily_Screen_Time_hr</th>\n",
       "      <th>Primary_Device</th>\n",
       "      <th>Exceeded_Recommended_Limit</th>\n",
       "      <th>Educational_to_Recreational_Ratio</th>\n",
       "      <th>Health_Impacts</th>\n",
       "      <th>Urban_or_Rural</th>\n",
       "    </tr>\n",
       "  </thead>\n",
       "  <tbody>\n",
       "    <tr>\n",
       "      <th>0</th>\n",
       "      <td>14</td>\n",
       "      <td>Male</td>\n",
       "      <td>3.99</td>\n",
       "      <td>Smartphone</td>\n",
       "      <td>True</td>\n",
       "      <td>0.42</td>\n",
       "      <td>Poor Sleep, Eye Strain</td>\n",
       "      <td>Urban</td>\n",
       "    </tr>\n",
       "    <tr>\n",
       "      <th>1</th>\n",
       "      <td>11</td>\n",
       "      <td>Female</td>\n",
       "      <td>4.61</td>\n",
       "      <td>Laptop</td>\n",
       "      <td>True</td>\n",
       "      <td>0.30</td>\n",
       "      <td>Poor Sleep</td>\n",
       "      <td>Urban</td>\n",
       "    </tr>\n",
       "    <tr>\n",
       "      <th>2</th>\n",
       "      <td>18</td>\n",
       "      <td>Female</td>\n",
       "      <td>3.73</td>\n",
       "      <td>TV</td>\n",
       "      <td>True</td>\n",
       "      <td>0.32</td>\n",
       "      <td>Poor Sleep</td>\n",
       "      <td>Urban</td>\n",
       "    </tr>\n",
       "    <tr>\n",
       "      <th>3</th>\n",
       "      <td>15</td>\n",
       "      <td>Female</td>\n",
       "      <td>1.21</td>\n",
       "      <td>Laptop</td>\n",
       "      <td>False</td>\n",
       "      <td>0.39</td>\n",
       "      <td>None</td>\n",
       "      <td>Urban</td>\n",
       "    </tr>\n",
       "    <tr>\n",
       "      <th>4</th>\n",
       "      <td>12</td>\n",
       "      <td>Female</td>\n",
       "      <td>5.89</td>\n",
       "      <td>Smartphone</td>\n",
       "      <td>True</td>\n",
       "      <td>0.49</td>\n",
       "      <td>Poor Sleep, Anxiety</td>\n",
       "      <td>Urban</td>\n",
       "    </tr>\n",
       "  </tbody>\n",
       "</table>\n",
       "</div>"
      ],
      "text/plain": [
       "   Age  Gender  Avg_Daily_Screen_Time_hr Primary_Device  \\\n",
       "0   14    Male                      3.99     Smartphone   \n",
       "1   11  Female                      4.61         Laptop   \n",
       "2   18  Female                      3.73             TV   \n",
       "3   15  Female                      1.21         Laptop   \n",
       "4   12  Female                      5.89     Smartphone   \n",
       "\n",
       "   Exceeded_Recommended_Limit  Educational_to_Recreational_Ratio  \\\n",
       "0                        True                               0.42   \n",
       "1                        True                               0.30   \n",
       "2                        True                               0.32   \n",
       "3                       False                               0.39   \n",
       "4                        True                               0.49   \n",
       "\n",
       "           Health_Impacts Urban_or_Rural  \n",
       "0  Poor Sleep, Eye Strain          Urban  \n",
       "1              Poor Sleep          Urban  \n",
       "2              Poor Sleep          Urban  \n",
       "3                    None          Urban  \n",
       "4     Poor Sleep, Anxiety          Urban  "
      ]
     },
     "execution_count": 16,
     "metadata": {},
     "output_type": "execute_result"
    }
   ],
   "source": [
    "screen.head()"
   ]
  },
  {
   "cell_type": "code",
   "execution_count": 17,
   "id": "3a5578ce",
   "metadata": {},
   "outputs": [
    {
     "data": {
      "application/vnd.microsoft.datawrangler.viewer.v0+json": {
       "columns": [
        {
         "name": "index",
         "rawType": "object",
         "type": "string"
        },
        {
         "name": "0",
         "rawType": "int64",
         "type": "integer"
        }
       ],
       "ref": "c019e8a2-de44-4b14-a45b-877cf30aa8cd",
       "rows": [
        [
         "Age",
         "0"
        ],
        [
         "Gender",
         "0"
        ],
        [
         "Avg_Daily_Screen_Time_hr",
         "0"
        ],
        [
         "Primary_Device",
         "0"
        ],
        [
         "Exceeded_Recommended_Limit",
         "0"
        ],
        [
         "Educational_to_Recreational_Ratio",
         "0"
        ],
        [
         "Health_Impacts",
         "0"
        ],
        [
         "Urban_or_Rural",
         "0"
        ]
       ],
       "shape": {
        "columns": 1,
        "rows": 8
       }
      },
      "text/plain": [
       "Age                                  0\n",
       "Gender                               0\n",
       "Avg_Daily_Screen_Time_hr             0\n",
       "Primary_Device                       0\n",
       "Exceeded_Recommended_Limit           0\n",
       "Educational_to_Recreational_Ratio    0\n",
       "Health_Impacts                       0\n",
       "Urban_or_Rural                       0\n",
       "dtype: int64"
      ]
     },
     "execution_count": 17,
     "metadata": {},
     "output_type": "execute_result"
    }
   ],
   "source": [
    "screen.isna().sum()"
   ]
  },
  {
   "cell_type": "markdown",
   "id": "36bb9e86",
   "metadata": {},
   "source": [
    "# EDA"
   ]
  },
  {
   "cell_type": "code",
   "execution_count": 18,
   "id": "415424cb",
   "metadata": {},
   "outputs": [
    {
     "data": {
      "application/vnd.microsoft.datawrangler.viewer.v0+json": {
       "columns": [
        {
         "name": "index",
         "rawType": "int64",
         "type": "integer"
        },
        {
         "name": "Age",
         "rawType": "int64",
         "type": "integer"
        },
        {
         "name": "Gender",
         "rawType": "object",
         "type": "string"
        },
        {
         "name": "Avg_Daily_Screen_Time_hr",
         "rawType": "float64",
         "type": "float"
        },
        {
         "name": "Primary_Device",
         "rawType": "object",
         "type": "string"
        },
        {
         "name": "Exceeded_Recommended_Limit",
         "rawType": "bool",
         "type": "boolean"
        },
        {
         "name": "Educational_to_Recreational_Ratio",
         "rawType": "float64",
         "type": "float"
        },
        {
         "name": "Health_Impacts",
         "rawType": "object",
         "type": "string"
        },
        {
         "name": "Urban_or_Rural",
         "rawType": "object",
         "type": "string"
        }
       ],
       "ref": "cc9f4ba4-54de-4ca1-8c87-1f05bda51049",
       "rows": [
        [
         "0",
         "14",
         "Male",
         "3.99",
         "Smartphone",
         "True",
         "0.42",
         "Poor Sleep, Eye Strain",
         "Urban"
        ],
        [
         "1",
         "11",
         "Female",
         "4.61",
         "Laptop",
         "True",
         "0.3",
         "Poor Sleep",
         "Urban"
        ],
        [
         "2",
         "18",
         "Female",
         "3.73",
         "TV",
         "True",
         "0.32",
         "Poor Sleep",
         "Urban"
        ],
        [
         "3",
         "15",
         "Female",
         "1.21",
         "Laptop",
         "False",
         "0.39",
         "None",
         "Urban"
        ],
        [
         "4",
         "12",
         "Female",
         "5.89",
         "Smartphone",
         "True",
         "0.49",
         "Poor Sleep, Anxiety",
         "Urban"
        ],
        [
         "5",
         "14",
         "Female",
         "4.88",
         "Smartphone",
         "True",
         "0.44",
         "Poor Sleep",
         "Urban"
        ],
        [
         "6",
         "17",
         "Male",
         "2.97",
         "TV",
         "False",
         "0.48",
         "None",
         "Rural"
        ],
        [
         "7",
         "10",
         "Male",
         "2.74",
         "TV",
         "True",
         "0.54",
         "None",
         "Urban"
        ],
        [
         "8",
         "14",
         "Male",
         "4.61",
         "Laptop",
         "True",
         "0.36",
         "Poor Sleep, Anxiety",
         "Rural"
        ],
        [
         "9",
         "18",
         "Male",
         "3.24",
         "Tablet",
         "True",
         "0.48",
         "Poor Sleep, Obesity Risk",
         "Urban"
        ],
        [
         "10",
         "18",
         "Male",
         "3.53",
         "Tablet",
         "True",
         "0.44",
         "Poor Sleep",
         "Rural"
        ],
        [
         "11",
         "15",
         "Female",
         "4.94",
         "TV",
         "True",
         "0.36",
         "Poor Sleep",
         "Rural"
        ],
        [
         "12",
         "12",
         "Male",
         "4.59",
         "Smartphone",
         "True",
         "0.43",
         "Poor Sleep",
         "Urban"
        ],
        [
         "13",
         "11",
         "Male",
         "6.08",
         "TV",
         "True",
         "0.48",
         "Eye Strain",
         "Rural"
        ],
        [
         "14",
         "15",
         "Male",
         "6.15",
         "Smartphone",
         "True",
         "0.4",
         "Poor Sleep",
         "Urban"
        ],
        [
         "15",
         "15",
         "Female",
         "3.69",
         "Smartphone",
         "True",
         "0.34",
         "Poor Sleep",
         "Urban"
        ],
        [
         "16",
         "10",
         "Female",
         "7.1",
         "Smartphone",
         "True",
         "0.43",
         "Poor Sleep, Eye Strain",
         "Rural"
        ],
        [
         "17",
         "13",
         "Female",
         "6.98",
         "Smartphone",
         "True",
         "0.48",
         "Obesity Risk",
         "Urban"
        ],
        [
         "18",
         "12",
         "Male",
         "3.82",
         "Smartphone",
         "True",
         "0.4",
         "Anxiety",
         "Urban"
        ],
        [
         "19",
         "9",
         "Female",
         "0.0",
         "TV",
         "False",
         "0.42",
         "None",
         "Urban"
        ],
        [
         "20",
         "15",
         "Male",
         "3.85",
         "Smartphone",
         "True",
         "0.49",
         "Obesity Risk",
         "Urban"
        ],
        [
         "21",
         "13",
         "Female",
         "4.05",
         "Smartphone",
         "True",
         "0.33",
         "Eye Strain",
         "Urban"
        ],
        [
         "22",
         "9",
         "Female",
         "1.63",
         "Tablet",
         "False",
         "0.58",
         "None",
         "Urban"
        ],
        [
         "23",
         "12",
         "Female",
         "6.78",
         "TV",
         "True",
         "0.33",
         "Eye Strain",
         "Urban"
        ],
        [
         "24",
         "8",
         "Male",
         "3.19",
         "Tablet",
         "True",
         "0.54",
         "Poor Sleep, Anxiety, Obesity Risk",
         "Urban"
        ],
        [
         "25",
         "17",
         "Male",
         "4.96",
         "Smartphone",
         "True",
         "0.32",
         "None",
         "Urban"
        ],
        [
         "26",
         "13",
         "Female",
         "1.85",
         "Smartphone",
         "False",
         "0.49",
         "None",
         "Urban"
        ],
        [
         "27",
         "16",
         "Male",
         "4.22",
         "Smartphone",
         "True",
         "0.5",
         "Poor Sleep",
         "Urban"
        ],
        [
         "28",
         "8",
         "Male",
         "0.31",
         "Smartphone",
         "False",
         "0.51",
         "None",
         "Urban"
        ],
        [
         "29",
         "18",
         "Male",
         "5.13",
         "TV",
         "True",
         "0.43",
         "Poor Sleep, Obesity Risk",
         "Urban"
        ],
        [
         "30",
         "18",
         "Male",
         "4.45",
         "Smartphone",
         "True",
         "0.48",
         "Eye Strain",
         "Urban"
        ],
        [
         "31",
         "17",
         "Female",
         "3.02",
         "Smartphone",
         "True",
         "0.39",
         "None",
         "Rural"
        ],
        [
         "32",
         "10",
         "Male",
         "2.16",
         "Tablet",
         "True",
         "0.41",
         "None",
         "Urban"
        ],
        [
         "33",
         "14",
         "Male",
         "4.28",
         "Smartphone",
         "True",
         "0.34",
         "Eye Strain",
         "Rural"
        ],
        [
         "34",
         "11",
         "Female",
         "5.34",
         "Smartphone",
         "True",
         "0.4",
         "Poor Sleep, Eye Strain",
         "Urban"
        ],
        [
         "35",
         "16",
         "Female",
         "3.5",
         "Laptop",
         "True",
         "0.4",
         "Eye Strain, Obesity Risk",
         "Rural"
        ],
        [
         "36",
         "10",
         "Male",
         "11.68",
         "TV",
         "True",
         "0.47",
         "Poor Sleep",
         "Urban"
        ],
        [
         "37",
         "12",
         "Female",
         "1.63",
         "Smartphone",
         "False",
         "0.5",
         "None",
         "Urban"
        ],
        [
         "38",
         "10",
         "Male",
         "4.63",
         "Smartphone",
         "True",
         "0.47",
         "Poor Sleep",
         "Urban"
        ],
        [
         "39",
         "14",
         "Male",
         "4.21",
         "TV",
         "True",
         "0.38",
         "Poor Sleep",
         "Urban"
        ],
        [
         "40",
         "12",
         "Male",
         "4.56",
         "Smartphone",
         "True",
         "0.5",
         "Poor Sleep, Eye Strain",
         "Urban"
        ],
        [
         "41",
         "16",
         "Female",
         "3.51",
         "TV",
         "True",
         "0.44",
         "Poor Sleep, Anxiety",
         "Urban"
        ],
        [
         "42",
         "14",
         "Female",
         "4.69",
         "Smartphone",
         "True",
         "0.35",
         "Poor Sleep, Eye Strain",
         "Urban"
        ],
        [
         "43",
         "9",
         "Male",
         "7.61",
         "TV",
         "True",
         "0.5",
         "Poor Sleep",
         "Urban"
        ],
        [
         "44",
         "11",
         "Male",
         "2.75",
         "Smartphone",
         "False",
         "0.35",
         "None",
         "Rural"
        ],
        [
         "45",
         "16",
         "Male",
         "6.74",
         "TV",
         "True",
         "0.42",
         "Eye Strain, Anxiety, Obesity Risk",
         "Urban"
        ],
        [
         "46",
         "9",
         "Female",
         "0.0",
         "Smartphone",
         "False",
         "0.47",
         "None",
         "Urban"
        ],
        [
         "47",
         "17",
         "Male",
         "2.34",
         "Smartphone",
         "False",
         "0.48",
         "None",
         "Rural"
        ],
        [
         "48",
         "16",
         "Male",
         "2.85",
         "Smartphone",
         "False",
         "0.3",
         "None",
         "Rural"
        ],
        [
         "49",
         "17",
         "Male",
         "4.29",
         "Laptop",
         "True",
         "0.39",
         "Poor Sleep, Eye Strain",
         "Rural"
        ]
       ],
       "shape": {
        "columns": 8,
        "rows": 9712
       }
      },
      "text/html": [
       "<div>\n",
       "<style scoped>\n",
       "    .dataframe tbody tr th:only-of-type {\n",
       "        vertical-align: middle;\n",
       "    }\n",
       "\n",
       "    .dataframe tbody tr th {\n",
       "        vertical-align: top;\n",
       "    }\n",
       "\n",
       "    .dataframe thead th {\n",
       "        text-align: right;\n",
       "    }\n",
       "</style>\n",
       "<table border=\"1\" class=\"dataframe\">\n",
       "  <thead>\n",
       "    <tr style=\"text-align: right;\">\n",
       "      <th></th>\n",
       "      <th>Age</th>\n",
       "      <th>Gender</th>\n",
       "      <th>Avg_Daily_Screen_Time_hr</th>\n",
       "      <th>Primary_Device</th>\n",
       "      <th>Exceeded_Recommended_Limit</th>\n",
       "      <th>Educational_to_Recreational_Ratio</th>\n",
       "      <th>Health_Impacts</th>\n",
       "      <th>Urban_or_Rural</th>\n",
       "    </tr>\n",
       "  </thead>\n",
       "  <tbody>\n",
       "    <tr>\n",
       "      <th>0</th>\n",
       "      <td>14</td>\n",
       "      <td>Male</td>\n",
       "      <td>3.99</td>\n",
       "      <td>Smartphone</td>\n",
       "      <td>True</td>\n",
       "      <td>0.42</td>\n",
       "      <td>Poor Sleep, Eye Strain</td>\n",
       "      <td>Urban</td>\n",
       "    </tr>\n",
       "    <tr>\n",
       "      <th>1</th>\n",
       "      <td>11</td>\n",
       "      <td>Female</td>\n",
       "      <td>4.61</td>\n",
       "      <td>Laptop</td>\n",
       "      <td>True</td>\n",
       "      <td>0.30</td>\n",
       "      <td>Poor Sleep</td>\n",
       "      <td>Urban</td>\n",
       "    </tr>\n",
       "    <tr>\n",
       "      <th>2</th>\n",
       "      <td>18</td>\n",
       "      <td>Female</td>\n",
       "      <td>3.73</td>\n",
       "      <td>TV</td>\n",
       "      <td>True</td>\n",
       "      <td>0.32</td>\n",
       "      <td>Poor Sleep</td>\n",
       "      <td>Urban</td>\n",
       "    </tr>\n",
       "    <tr>\n",
       "      <th>3</th>\n",
       "      <td>15</td>\n",
       "      <td>Female</td>\n",
       "      <td>1.21</td>\n",
       "      <td>Laptop</td>\n",
       "      <td>False</td>\n",
       "      <td>0.39</td>\n",
       "      <td>None</td>\n",
       "      <td>Urban</td>\n",
       "    </tr>\n",
       "    <tr>\n",
       "      <th>4</th>\n",
       "      <td>12</td>\n",
       "      <td>Female</td>\n",
       "      <td>5.89</td>\n",
       "      <td>Smartphone</td>\n",
       "      <td>True</td>\n",
       "      <td>0.49</td>\n",
       "      <td>Poor Sleep, Anxiety</td>\n",
       "      <td>Urban</td>\n",
       "    </tr>\n",
       "    <tr>\n",
       "      <th>...</th>\n",
       "      <td>...</td>\n",
       "      <td>...</td>\n",
       "      <td>...</td>\n",
       "      <td>...</td>\n",
       "      <td>...</td>\n",
       "      <td>...</td>\n",
       "      <td>...</td>\n",
       "      <td>...</td>\n",
       "    </tr>\n",
       "    <tr>\n",
       "      <th>9707</th>\n",
       "      <td>17</td>\n",
       "      <td>Male</td>\n",
       "      <td>3.26</td>\n",
       "      <td>Smartphone</td>\n",
       "      <td>True</td>\n",
       "      <td>0.44</td>\n",
       "      <td>Poor Sleep</td>\n",
       "      <td>Urban</td>\n",
       "    </tr>\n",
       "    <tr>\n",
       "      <th>9708</th>\n",
       "      <td>17</td>\n",
       "      <td>Female</td>\n",
       "      <td>4.43</td>\n",
       "      <td>Smartphone</td>\n",
       "      <td>True</td>\n",
       "      <td>0.40</td>\n",
       "      <td>Poor Sleep</td>\n",
       "      <td>Rural</td>\n",
       "    </tr>\n",
       "    <tr>\n",
       "      <th>9709</th>\n",
       "      <td>16</td>\n",
       "      <td>Male</td>\n",
       "      <td>5.62</td>\n",
       "      <td>Smartphone</td>\n",
       "      <td>True</td>\n",
       "      <td>0.39</td>\n",
       "      <td>Poor Sleep, Eye Strain, Anxiety</td>\n",
       "      <td>Rural</td>\n",
       "    </tr>\n",
       "    <tr>\n",
       "      <th>9710</th>\n",
       "      <td>17</td>\n",
       "      <td>Male</td>\n",
       "      <td>5.60</td>\n",
       "      <td>TV</td>\n",
       "      <td>True</td>\n",
       "      <td>0.43</td>\n",
       "      <td>Poor Sleep</td>\n",
       "      <td>Urban</td>\n",
       "    </tr>\n",
       "    <tr>\n",
       "      <th>9711</th>\n",
       "      <td>15</td>\n",
       "      <td>Female</td>\n",
       "      <td>6.12</td>\n",
       "      <td>TV</td>\n",
       "      <td>True</td>\n",
       "      <td>0.33</td>\n",
       "      <td>Anxiety</td>\n",
       "      <td>Urban</td>\n",
       "    </tr>\n",
       "  </tbody>\n",
       "</table>\n",
       "<p>9712 rows × 8 columns</p>\n",
       "</div>"
      ],
      "text/plain": [
       "      Age  Gender  Avg_Daily_Screen_Time_hr Primary_Device  \\\n",
       "0      14    Male                      3.99     Smartphone   \n",
       "1      11  Female                      4.61         Laptop   \n",
       "2      18  Female                      3.73             TV   \n",
       "3      15  Female                      1.21         Laptop   \n",
       "4      12  Female                      5.89     Smartphone   \n",
       "...   ...     ...                       ...            ...   \n",
       "9707   17    Male                      3.26     Smartphone   \n",
       "9708   17  Female                      4.43     Smartphone   \n",
       "9709   16    Male                      5.62     Smartphone   \n",
       "9710   17    Male                      5.60             TV   \n",
       "9711   15  Female                      6.12             TV   \n",
       "\n",
       "      Exceeded_Recommended_Limit  Educational_to_Recreational_Ratio  \\\n",
       "0                           True                               0.42   \n",
       "1                           True                               0.30   \n",
       "2                           True                               0.32   \n",
       "3                          False                               0.39   \n",
       "4                           True                               0.49   \n",
       "...                          ...                                ...   \n",
       "9707                        True                               0.44   \n",
       "9708                        True                               0.40   \n",
       "9709                        True                               0.39   \n",
       "9710                        True                               0.43   \n",
       "9711                        True                               0.33   \n",
       "\n",
       "                       Health_Impacts Urban_or_Rural  \n",
       "0              Poor Sleep, Eye Strain          Urban  \n",
       "1                          Poor Sleep          Urban  \n",
       "2                          Poor Sleep          Urban  \n",
       "3                                None          Urban  \n",
       "4                 Poor Sleep, Anxiety          Urban  \n",
       "...                               ...            ...  \n",
       "9707                       Poor Sleep          Urban  \n",
       "9708                       Poor Sleep          Rural  \n",
       "9709  Poor Sleep, Eye Strain, Anxiety          Rural  \n",
       "9710                       Poor Sleep          Urban  \n",
       "9711                          Anxiety          Urban  \n",
       "\n",
       "[9712 rows x 8 columns]"
      ]
     },
     "execution_count": 18,
     "metadata": {},
     "output_type": "execute_result"
    }
   ],
   "source": [
    "screen"
   ]
  },
  {
   "cell_type": "code",
   "execution_count": 19,
   "id": "b4a21ebb",
   "metadata": {},
   "outputs": [],
   "source": [
    "screen['Exceeded_Encoding'] = screen['Exceeded_Recommended_Limit'].apply(lambda x: 1 if x == True else 0)"
   ]
  },
  {
   "cell_type": "code",
   "execution_count": 20,
   "id": "c77a6552",
   "metadata": {},
   "outputs": [
    {
     "data": {
      "image/png": "[encoded data removed]",
      "text/plain": [
       "<Figure size 1200x1000 with 4 Axes>"
      ]
     },
     "metadata": {},
     "output_type": "display_data"
    }
   ],
   "source": [
    "num_cols = ['Age', 'Avg_Daily_Screen_Time_hr', 'Educational_to_Recreational_Ratio', 'Exceeded_Encoding']\n",
    "screen[num_cols].hist(figsize=(12,10), bins=2)\n",
    "plt.tight_layout()\n",
    "plt.show()"
   ]
  },
  {
   "cell_type": "code",
   "execution_count": null,
   "id": "0e79d326",
   "metadata": {},
   "outputs": [],
   "source": [
    "for cols in num_cols:\n",
    "    sns.boxplot(data=screen, x='')"
   ]
  },
  {
   "cell_type": "code",
   "execution_count": 33,
   "id": "7a00df35",
   "metadata": {},
   "outputs": [],
   "source": [
    "# Original DataFrame\n",
    "df = pd.DataFrame([[[1, 2, 3], [4, 5, 6]], \n",
    "                   [[7, 8, 9], [10, 11, 12]]])\n",
    "\n",
    "# Convert to list and flatten into 2D array\n",
    "array_2d = np.vstack(df[0].tolist())"
   ]
  },
  {
   "cell_type": "code",
   "execution_count": 34,
   "id": "c989e8ac",
   "metadata": {},
   "outputs": [
    {
     "data": {
      "text/plain": [
       "array([[1, 2, 3],\n",
       "       [7, 8, 9]])"
      ]
     },
     "execution_count": 34,
     "metadata": {},
     "output_type": "execute_result"
    }
   ],
   "source": [
    "array_2d"
   ]
  },
  {
   "cell_type": "code",
   "execution_count": 37,
   "id": "ad4fcea3",
   "metadata": {},
   "outputs": [
    {
     "data": {
      "text/plain": [
       "np.int64(2)"
      ]
     },
     "execution_count": 37,
     "metadata": {},
     "output_type": "execute_result"
    }
   ],
   "source": [
    "array_2d[0,1]\n",
    "array_2d[0][1]"
   ]
  },
  {
   "cell_type": "code",
   "execution_count": 42,
   "id": "49249a15",
   "metadata": {},
   "outputs": [],
   "source": [
    "df = df.stack()"
   ]
  },
  {
   "cell_type": "code",
   "execution_count": 41,
   "id": "cae9fc54",
   "metadata": {},
   "outputs": [
    {
     "data": {
      "application/vnd.microsoft.datawrangler.viewer.v0+json": {
       "columns": [
        {
         "name": "index",
         "rawType": "int64",
         "type": "integer"
        },
        {
         "name": "0",
         "rawType": "object",
         "type": "unknown"
        },
        {
         "name": "1",
         "rawType": "object",
         "type": "unknown"
        }
       ],
       "ref": "7cce6cf2-a7c2-4d66-8ccf-a6abefe8f0c9",
       "rows": [
        [
         "0",
         "[1, 2, 3]",
         "[4, 5, 6]"
        ],
        [
         "1",
         "[7, 8, 9]",
         "[10, 11, 12]"
        ]
       ],
       "shape": {
        "columns": 2,
        "rows": 2
       }
      },
      "text/html": [
       "<div>\n",
       "<style scoped>\n",
       "    .dataframe tbody tr th:only-of-type {\n",
       "        vertical-align: middle;\n",
       "    }\n",
       "\n",
       "    .dataframe tbody tr th {\n",
       "        vertical-align: top;\n",
       "    }\n",
       "\n",
       "    .dataframe thead th {\n",
       "        text-align: right;\n",
       "    }\n",
       "</style>\n",
       "<table border=\"1\" class=\"dataframe\">\n",
       "  <thead>\n",
       "    <tr style=\"text-align: right;\">\n",
       "      <th></th>\n",
       "      <th>0</th>\n",
       "      <th>1</th>\n",
       "    </tr>\n",
       "  </thead>\n",
       "  <tbody>\n",
       "    <tr>\n",
       "      <th>0</th>\n",
       "      <td>[1, 2, 3]</td>\n",
       "      <td>[4, 5, 6]</td>\n",
       "    </tr>\n",
       "    <tr>\n",
       "      <th>1</th>\n",
       "      <td>[7, 8, 9]</td>\n",
       "      <td>[10, 11, 12]</td>\n",
       "    </tr>\n",
       "  </tbody>\n",
       "</table>\n",
       "</div>"
      ],
      "text/plain": [
       "           0             1\n",
       "0  [1, 2, 3]     [4, 5, 6]\n",
       "1  [7, 8, 9]  [10, 11, 12]"
      ]
     },
     "execution_count": 41,
     "metadata": {},
     "output_type": "execute_result"
    }
   ],
   "source": [
    "df.stack().unstack()"
   ]
  },
  {
   "cell_type": "code",
   "execution_count": 43,
   "id": "8313dc98",
   "metadata": {},
   "outputs": [
    {
     "data": {
      "text/plain": [
       "[1, 2, 3]"
      ]
     },
     "execution_count": 43,
     "metadata": {},
     "output_type": "execute_result"
    }
   ],
   "source": [
    "df.loc[0,0]"
   ]
  },
  {
   "cell_type": "code",
   "execution_count": 44,
   "id": "f4230352",
   "metadata": {},
   "outputs": [
    {
     "data": {
      "text/plain": [
       "MultiIndex([(0, 0),\n",
       "            (0, 1),\n",
       "            (1, 0),\n",
       "            (1, 1)],\n",
       "           )"
      ]
     },
     "execution_count": 44,
     "metadata": {},
     "output_type": "execute_result"
    }
   ],
   "source": [
    "df.index"
   ]
  },
  {
   "cell_type": "code",
   "execution_count": 45,
   "id": "f951158a",
   "metadata": {},
   "outputs": [
    {
     "data": {
      "application/vnd.microsoft.datawrangler.viewer.v0+json": {
       "columns": [
        {
         "name": "(None, None)",
         "rawType": "object",
         "type": "unknown"
        },
        {
         "name": "0",
         "rawType": "object",
         "type": "unknown"
        }
       ],
       "ref": "1f2ae5d2-08f3-4bc1-8c96-d0473025c4e2",
       "rows": [
        [
         "(0, 0)",
         "[1, 2, 3]"
        ],
        [
         "(0, 1)",
         "[4, 5, 6]"
        ],
        [
         "(1, 0)",
         "[7, 8, 9]"
        ],
        [
         "(1, 1)",
         "[10, 11, 12]"
        ]
       ],
       "shape": {
        "columns": 1,
        "rows": 4
       }
      },
      "text/plain": [
       "0  0       [1, 2, 3]\n",
       "   1       [4, 5, 6]\n",
       "1  0       [7, 8, 9]\n",
       "   1    [10, 11, 12]\n",
       "dtype: object"
      ]
     },
     "execution_count": 45,
     "metadata": {},
     "output_type": "execute_result"
    }
   ],
   "source": [
    "df"
   ]
  },
  {
   "cell_type": "code",
   "execution_count": 46,
   "id": "4c4bdeb6",
   "metadata": {},
   "outputs": [],
   "source": [
    "df = df.unstack()"
   ]
  },
  {
   "cell_type": "code",
   "execution_count": 47,
   "id": "f9b0c9b9",
   "metadata": {},
   "outputs": [
    {
     "data": {
      "application/vnd.microsoft.datawrangler.viewer.v0+json": {
       "columns": [
        {
         "name": "index",
         "rawType": "int64",
         "type": "integer"
        },
        {
         "name": "0",
         "rawType": "object",
         "type": "unknown"
        },
        {
         "name": "1",
         "rawType": "object",
         "type": "unknown"
        }
       ],
       "ref": "1c2cfbd5-9d01-4751-8bd9-33c6adf01375",
       "rows": [
        [
         "0",
         "[1, 2, 3]",
         "[4, 5, 6]"
        ],
        [
         "1",
         "[7, 8, 9]",
         "[10, 11, 12]"
        ]
       ],
       "shape": {
        "columns": 2,
        "rows": 2
       }
      },
      "text/html": [
       "<div>\n",
       "<style scoped>\n",
       "    .dataframe tbody tr th:only-of-type {\n",
       "        vertical-align: middle;\n",
       "    }\n",
       "\n",
       "    .dataframe tbody tr th {\n",
       "        vertical-align: top;\n",
       "    }\n",
       "\n",
       "    .dataframe thead th {\n",
       "        text-align: right;\n",
       "    }\n",
       "</style>\n",
       "<table border=\"1\" class=\"dataframe\">\n",
       "  <thead>\n",
       "    <tr style=\"text-align: right;\">\n",
       "      <th></th>\n",
       "      <th>0</th>\n",
       "      <th>1</th>\n",
       "    </tr>\n",
       "  </thead>\n",
       "  <tbody>\n",
       "    <tr>\n",
       "      <th>0</th>\n",
       "      <td>[1, 2, 3]</td>\n",
       "      <td>[4, 5, 6]</td>\n",
       "    </tr>\n",
       "    <tr>\n",
       "      <th>1</th>\n",
       "      <td>[7, 8, 9]</td>\n",
       "      <td>[10, 11, 12]</td>\n",
       "    </tr>\n",
       "  </tbody>\n",
       "</table>\n",
       "</div>"
      ],
      "text/plain": [
       "           0             1\n",
       "0  [1, 2, 3]     [4, 5, 6]\n",
       "1  [7, 8, 9]  [10, 11, 12]"
      ]
     },
     "execution_count": 47,
     "metadata": {},
     "output_type": "execute_result"
    }
   ],
   "source": [
    "df"
   ]
  },
  {
   "cell_type": "code",
   "execution_count": 50,
   "id": "a9cd80a1",
   "metadata": {},
   "outputs": [],
   "source": [
    "arr = np.array([[[1, 2, 3], [4, 5, 6]], \n",
    "                   [[7, 8, 9], [10, 11, 12]]])"
   ]
  },
  {
   "cell_type": "code",
   "execution_count": 52,
   "id": "3a394cb0",
   "metadata": {},
   "outputs": [
    {
     "name": "stdout",
     "output_type": "stream",
     "text": [
      "[[[ 1  2  3]\n",
      "  [ 4  5  6]]\n",
      "\n",
      " [[ 7  8  9]\n",
      "  [10 11 12]]]\n"
     ]
    }
   ],
   "source": [
    "print(arr)"
   ]
  },
  {
   "cell_type": "code",
   "execution_count": 53,
   "id": "5af95e96",
   "metadata": {},
   "outputs": [
    {
     "data": {
      "text/plain": [
       "(2, 2, 3)"
      ]
     },
     "execution_count": 53,
     "metadata": {},
     "output_type": "execute_result"
    }
   ],
   "source": [
    "arr.shape"
   ]
  },
  {
   "cell_type": "code",
   "execution_count": 57,
   "id": "c157d1d8",
   "metadata": {},
   "outputs": [
    {
     "data": {
      "text/plain": [
       "array([[ 1,  2,  3],\n",
       "       [ 4,  5,  6],\n",
       "       [ 7,  8,  9],\n",
       "       [10, 11, 12]])"
      ]
     },
     "execution_count": 57,
     "metadata": {},
     "output_type": "execute_result"
    }
   ],
   "source": [
    "arr.flatten().reshape((4,3))"
   ]
  }
 ],
 "metadata": {
  "kernelspec": {
   "display_name": "DataScience",
   "language": "python",
   "name": "python3"
  },
  "language_info": {
   "codemirror_mode": {
    "name": "ipython",
    "version": 3
   },
   "file_extension": ".py",
   "mimetype": "text/x-python",
   "name": "python",
   "nbconvert_exporter": "python",
   "pygments_lexer": "ipython3",
   "version": "3.12.10"
  }
 },
 "nbformat": 4,
 "nbformat_minor": 5
}
